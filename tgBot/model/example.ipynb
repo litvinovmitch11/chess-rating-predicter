{
 "cells": [
  {
   "cell_type": "code",
   "id": "initial_id",
   "metadata": {
    "collapsed": true,
    "ExecuteTime": {
     "end_time": "2024-06-07T05:27:55.423951Z",
     "start_time": "2024-06-07T05:27:55.407060Z"
    }
   },
   "source": [
    "import pickle\n",
    "from modules.utils.rating_to_category import rating_to_category"
   ],
   "outputs": [],
   "execution_count": 1
  },
  {
   "metadata": {
    "ExecuteTime": {
     "end_time": "2024-06-07T05:27:56.542366Z",
     "start_time": "2024-06-07T05:27:56.226179Z"
    }
   },
   "cell_type": "code",
   "source": [
    "with open('content/model.pkl', 'rb') as f:\n",
    "    loaded_model = pickle.load(f)\n",
    "\n",
    "    prediction = loaded_model.predict(\"1. e4 e5 2. Bc4 d6 3. Qh5 Nf6 4. Qxf7#\")\n",
    "    print(prediction)\n",
    "    print(f\"Ваша игра говорит о том, что белый играет как {rating_to_category(prediction[0]).lower()}\")"
   ],
   "id": "b12594593ce84d73",
   "outputs": [
    {
     "ename": "AttributeError",
     "evalue": "Can't get attribute 'TextModelWrapper' on <module '__main__'>",
     "output_type": "error",
     "traceback": [
      "\u001B[0;31m---------------------------------------------------------------------------\u001B[0m",
      "\u001B[0;31mAttributeError\u001B[0m                            Traceback (most recent call last)",
      "Cell \u001B[0;32mIn[2], line 2\u001B[0m\n\u001B[1;32m      1\u001B[0m \u001B[38;5;28;01mwith\u001B[39;00m \u001B[38;5;28mopen\u001B[39m(\u001B[38;5;124m'\u001B[39m\u001B[38;5;124mcontent/model.pkl\u001B[39m\u001B[38;5;124m'\u001B[39m, \u001B[38;5;124m'\u001B[39m\u001B[38;5;124mrb\u001B[39m\u001B[38;5;124m'\u001B[39m) \u001B[38;5;28;01mas\u001B[39;00m f:\n\u001B[0;32m----> 2\u001B[0m     loaded_model \u001B[38;5;241m=\u001B[39m \u001B[43mpickle\u001B[49m\u001B[38;5;241;43m.\u001B[39;49m\u001B[43mload\u001B[49m\u001B[43m(\u001B[49m\u001B[43mf\u001B[49m\u001B[43m)\u001B[49m\n\u001B[1;32m      4\u001B[0m     prediction \u001B[38;5;241m=\u001B[39m loaded_model\u001B[38;5;241m.\u001B[39mpredict(\u001B[38;5;124m\"\u001B[39m\u001B[38;5;124m1. e4 e5 2. Bc4 d6 3. Qh5 Nf6 4. Qxf7#\u001B[39m\u001B[38;5;124m\"\u001B[39m)\n\u001B[1;32m      5\u001B[0m     \u001B[38;5;28mprint\u001B[39m(prediction)\n",
      "\u001B[0;31mAttributeError\u001B[0m: Can't get attribute 'TextModelWrapper' on <module '__main__'>"
     ]
    }
   ],
   "execution_count": 2
  },
  {
   "metadata": {},
   "cell_type": "code",
   "outputs": [],
   "execution_count": null,
   "source": "",
   "id": "3b8e7da18b990766"
  }
 ],
 "metadata": {
  "kernelspec": {
   "display_name": "Python 3",
   "language": "python",
   "name": "python3"
  },
  "language_info": {
   "codemirror_mode": {
    "name": "ipython",
    "version": 2
   },
   "file_extension": ".py",
   "mimetype": "text/x-python",
   "name": "python",
   "nbconvert_exporter": "python",
   "pygments_lexer": "ipython2",
   "version": "2.7.6"
  }
 },
 "nbformat": 4,
 "nbformat_minor": 5
}
