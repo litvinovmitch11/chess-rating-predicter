{
 "cells": [
  {
   "cell_type": "code",
   "id": "initial_id",
   "metadata": {
    "collapsed": true,
    "ExecuteTime": {
     "end_time": "2024-06-06T22:35:45.539015Z",
     "start_time": "2024-06-06T22:35:44.784920Z"
    }
   },
   "source": [
    "import pickle\n",
    "from make_model import TextModelWrapper\n",
    "from rating_to_category import rating_to_category"
   ],
   "outputs": [],
   "execution_count": 1
  },
  {
   "metadata": {
    "ExecuteTime": {
     "end_time": "2024-06-06T22:35:55.527802Z",
     "start_time": "2024-06-06T22:35:45.540393Z"
    }
   },
   "cell_type": "code",
   "source": [
    "with open('content/model.pkl', 'rb') as f:\n",
    "    loaded_model = pickle.load(f)\n",
    "\n",
    "    prediction = loaded_model.predict(\"1. e4 e5 2. Bc4 d6 3. Qh5 Nf6 4. Qxf7#\")\n",
    "    print(prediction)\n",
    "    print(f\"Ваша игра говорит о том, что белый играет как {rating_to_category(prediction[0]).lower()}\")"
   ],
   "id": "b12594593ce84d73",
   "outputs": [
    {
     "name": "stdout",
     "output_type": "stream",
     "text": [
      "[2]\n",
      "Ваша игра говорит о том, что белый играет как любитель\n"
     ]
    }
   ],
   "execution_count": 2
  }
 ],
 "metadata": {
  "kernelspec": {
   "display_name": "Python 3",
   "language": "python",
   "name": "python3"
  },
  "language_info": {
   "codemirror_mode": {
    "name": "ipython",
    "version": 2
   },
   "file_extension": ".py",
   "mimetype": "text/x-python",
   "name": "python",
   "nbconvert_exporter": "python",
   "pygments_lexer": "ipython2",
   "version": "2.7.6"
  }
 },
 "nbformat": 4,
 "nbformat_minor": 5
}
