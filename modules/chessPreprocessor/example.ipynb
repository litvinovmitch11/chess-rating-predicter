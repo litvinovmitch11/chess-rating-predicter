{
 "cells": [
  {
   "metadata": {
    "ExecuteTime": {
     "end_time": "2024-06-05T15:49:52.366211Z",
     "start_time": "2024-06-05T15:49:51.599406Z"
    }
   },
   "cell_type": "code",
   "source": [
    "from preprocessor import Preprocessor\n",
    "\n",
    "proc = Preprocessor()"
   ],
   "id": "b40efb1f40fdf146",
   "execution_count": 1,
   "outputs": []
  },
  {
   "metadata": {
    "ExecuteTime": {
     "end_time": "2024-06-05T15:50:06.209191Z",
     "start_time": "2024-06-05T15:49:52.368106Z"
    }
   },
   "cell_type": "code",
   "source": [
    "proc.read_pgn_from_string(\"1. e4 e5 2. Bc4 d6 3. Qh5 Nf6 4. Qxf7#\")\n",
    "proc.calculate_wdl()\n",
    "proc.calculate_evaluation_stat()\n",
    "proc.calculate_n_best_lines(n=5)"
   ],
   "id": "b7d7a67082edcf77",
   "execution_count": 2,
   "outputs": []
  },
  {
   "metadata": {
    "ExecuteTime": {
     "end_time": "2024-06-05T15:50:06.235651Z",
     "start_time": "2024-06-05T15:50:06.210386Z"
    }
   },
   "cell_type": "code",
   "source": "proc.get_stats_per_move(add_wdl_stats=True, add_evaluation_stats=True, n_best_lines=3)",
   "id": "a3ca2a5fc238f594",
   "execution_count": 3,
   "outputs": []
  },
  {
   "metadata": {
    "ExecuteTime": {
     "end_time": "2024-06-05T15:50:25.146415Z",
     "start_time": "2024-06-05T15:50:06.237001Z"
    }
   },
   "cell_type": "code",
   "source": [
    "import chess.pgn\n",
    "\n",
    "with open(\"../data/lichess_db_standard_rated_2013-01.pgn\") as pgn:\n",
    "    game = chess.pgn.read_game(pgn)\n",
    "    moves = str(game.mainline_moves())\n",
    "    \n",
    "proc.read_pgn_from_string(moves)\n",
    "proc.calculate_wdl()\n",
    "proc.calculate_evaluation_stat()"
   ],
   "id": "feddd155fad17718",
   "execution_count": 4,
   "outputs": []
  },
  {
   "metadata": {
    "ExecuteTime": {
     "end_time": "2024-06-05T15:50:25.157932Z",
     "start_time": "2024-06-05T15:50:25.147682Z"
    }
   },
   "cell_type": "code",
   "source": "proc.get_stats_per_move(add_wdl_stats=True, add_evaluation_stats=True)",
   "id": "d07bfabe2c61292d",
   "execution_count": 5,
   "outputs": []
  },
  {
   "metadata": {},
   "cell_type": "code",
   "source": "",
   "id": "bdf36f4aec30dc1b",
   "execution_count": 5,
   "outputs": []
  }
 ],
 "metadata": {
  "kernelspec": {
   "display_name": "Python 3",
   "language": "python",
   "name": "python3"
  },
  "language_info": {
   "codemirror_mode": {
    "name": "ipython",
    "version": 2
   },
   "file_extension": ".py",
   "mimetype": "text/x-python",
   "name": "python",
   "nbconvert_exporter": "python",
   "pygments_lexer": "ipython2",
   "version": "2.7.6"
  }
 },
 "nbformat": 4,
 "nbformat_minor": 5
}
