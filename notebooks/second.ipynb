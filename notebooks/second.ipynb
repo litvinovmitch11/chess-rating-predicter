{
 "cells": [
  {
   "metadata": {
    "ExecuteTime": {
     "end_time": "2024-06-06T07:10:45.332439Z",
     "start_time": "2024-06-06T07:10:45.003247Z"
    }
   },
   "cell_type": "code",
   "source": [
    "import pandas as pd\n",
    "import numpy as np"
   ],
   "id": "41323af23da6665d",
   "outputs": [],
   "execution_count": 1
  },
  {
   "metadata": {
    "ExecuteTime": {
     "end_time": "2024-06-06T07:10:46.004697Z",
     "start_time": "2024-06-06T07:10:45.888337Z"
    }
   },
   "cell_type": "code",
   "source": [
    "from rating_to_category import rating_to_number\n",
    "from chessPreprocessor.preprocessor import Preprocessor\n",
    "import chess.pgn"
   ],
   "id": "fd8b14bfffe1d611",
   "outputs": [],
   "execution_count": 2
  },
  {
   "metadata": {},
   "cell_type": "markdown",
   "source": "Попробуем собрать статистику по 1 игре",
   "id": "5efca8eb4c082d78"
  },
  {
   "metadata": {
    "ExecuteTime": {
     "end_time": "2024-06-06T07:10:46.779558Z",
     "start_time": "2024-06-06T07:10:46.649373Z"
    }
   },
   "cell_type": "code",
   "source": [
    "proc_first = Preprocessor()\n",
    "required_headers = ['Event', 'Result', 'WhiteElo', 'BlackElo', 'WhiteRatingDiff', 'BlackRatingDiff', 'ECO', 'Opening',\n",
    "                    'TimeControl', 'Termination']\n",
    "with open(\"../data/lichess_db_standard_rated_2013-01.pgn\") as pgn:\n",
    "    while True:\n",
    "        game = chess.pgn.read_game(pgn)\n",
    "        if game is None:\n",
    "            break\n",
    "        if not all(header in game.headers for header in required_headers) or '?' in game.headers['Event'] + \\\n",
    "                game.headers['Result'] + game.headers['WhiteElo'] + game.headers['BlackElo'] + game.headers[\n",
    "            'WhiteRatingDiff'] + game.headers['BlackRatingDiff'] + game.headers['ECO'] + game.headers[\n",
    "            'Opening'] + game.headers['TimeControl'] + game.headers['Termination']:\n",
    "            continue\n",
    "        proc_first.read_pgn_from_string(str(game.mainline_moves()))\n",
    "        break"
   ],
   "id": "de2cf03f8f9c4383",
   "outputs": [],
   "execution_count": 3
  },
  {
   "metadata": {},
   "cell_type": "markdown",
   "source": "Засечем время, за которое мы получаем статистику по 1 игре",
   "id": "9bed2333e649a629"
  },
  {
   "metadata": {
    "ExecuteTime": {
     "end_time": "2024-06-06T07:11:44.785445Z",
     "start_time": "2024-06-06T07:10:47.613395Z"
    }
   },
   "cell_type": "code",
   "source": [
    "%%time\n",
    "proc_first.calculate_wdl()\n",
    "proc_first.calculate_evaluation_stat()\n",
    "proc_first.calculate_n_best_lines(n=3)"
   ],
   "id": "4752896962461ad2",
   "outputs": [
    {
     "name": "stdout",
     "output_type": "stream",
     "text": [
      "CPU times: user 59 ms, sys: 15.8 ms, total: 74.8 ms\n",
      "Wall time: 57.2 s\n"
     ]
    }
   ],
   "execution_count": 4
  },
  {
   "metadata": {},
   "cell_type": "markdown",
   "source": "Видим, что если мы захотим собрать статистику по большому датасету, то ударимся об то, что это будет НУ ОЧЕНЬ долго. Давайте попробуем ускорить этот процесс (начнем с разных процессов). Для начала поймем в каком формате хотим хранить данные. Давайте запоминать id игры, номер хода и сохранять всю имеющуюся статистику. Также будем хранить id для наших игр. Таким образом создадим свзять между датасетами",
   "id": "70b27beae7ba4820"
  },
  {
   "metadata": {
    "ExecuteTime": {
     "end_time": "2024-06-06T07:11:44.812535Z",
     "start_time": "2024-06-06T07:11:44.787760Z"
    }
   },
   "cell_type": "code",
   "source": [
    "df_stat_first = proc_first.get_stats_per_move(add_wdl_stats=True, add_evaluation_stats=True, n_best_lines=3)\n",
    "df_stat_first['game_id'] = 0\n",
    "df_stat_first['move_number'] = np.arange(df_stat_first['game_id'].shape[0])\n",
    "df_stat_first.head(3)"
   ],
   "id": "80282db6c75ed612",
   "outputs": [
    {
     "data": {
      "text/plain": [
       "   move    win   draw   lose  centipawns  moves_to_force_mate  \\\n",
       "0  e2e4  0.020  0.900  0.080        33.0                  NaN   \n",
       "1  e7e6  0.093  0.890  0.017        41.0                  NaN   \n",
       "2  d2d4  0.014  0.878  0.108        49.0                  NaN   \n",
       "\n",
       "  best_line_1_move  best_line_1_centipawns  best_line_1_moves_to_force_mate  \\\n",
       "0             e2e4                    44.0                              NaN   \n",
       "1             c7c5                    32.0                              NaN   \n",
       "2             d2d4                    27.0                              NaN   \n",
       "\n",
       "  best_line_2_move  best_line_2_centipawns best_line_2_moves_to_force_mate  \\\n",
       "0             d2d4                      33                            None   \n",
       "1             e7e5                      43                            None   \n",
       "2             b1c3                      27                            None   \n",
       "\n",
       "  best_line_3_move  best_line_3_centipawns best_line_3_moves_to_force_mate  \\\n",
       "0             g1f3                      24                            None   \n",
       "1             e7e6                      52                            None   \n",
       "2             g1f3                      15                            None   \n",
       "\n",
       "   game_id  move_number  \n",
       "0        0            0  \n",
       "1        0            1  \n",
       "2        0            2  "
      ],
      "text/html": [
       "<div>\n",
       "<style scoped>\n",
       "    .dataframe tbody tr th:only-of-type {\n",
       "        vertical-align: middle;\n",
       "    }\n",
       "\n",
       "    .dataframe tbody tr th {\n",
       "        vertical-align: top;\n",
       "    }\n",
       "\n",
       "    .dataframe thead th {\n",
       "        text-align: right;\n",
       "    }\n",
       "</style>\n",
       "<table border=\"1\" class=\"dataframe\">\n",
       "  <thead>\n",
       "    <tr style=\"text-align: right;\">\n",
       "      <th></th>\n",
       "      <th>move</th>\n",
       "      <th>win</th>\n",
       "      <th>draw</th>\n",
       "      <th>lose</th>\n",
       "      <th>centipawns</th>\n",
       "      <th>moves_to_force_mate</th>\n",
       "      <th>best_line_1_move</th>\n",
       "      <th>best_line_1_centipawns</th>\n",
       "      <th>best_line_1_moves_to_force_mate</th>\n",
       "      <th>best_line_2_move</th>\n",
       "      <th>best_line_2_centipawns</th>\n",
       "      <th>best_line_2_moves_to_force_mate</th>\n",
       "      <th>best_line_3_move</th>\n",
       "      <th>best_line_3_centipawns</th>\n",
       "      <th>best_line_3_moves_to_force_mate</th>\n",
       "      <th>game_id</th>\n",
       "      <th>move_number</th>\n",
       "    </tr>\n",
       "  </thead>\n",
       "  <tbody>\n",
       "    <tr>\n",
       "      <th>0</th>\n",
       "      <td>e2e4</td>\n",
       "      <td>0.020</td>\n",
       "      <td>0.900</td>\n",
       "      <td>0.080</td>\n",
       "      <td>33.0</td>\n",
       "      <td>NaN</td>\n",
       "      <td>e2e4</td>\n",
       "      <td>44.0</td>\n",
       "      <td>NaN</td>\n",
       "      <td>d2d4</td>\n",
       "      <td>33</td>\n",
       "      <td>None</td>\n",
       "      <td>g1f3</td>\n",
       "      <td>24</td>\n",
       "      <td>None</td>\n",
       "      <td>0</td>\n",
       "      <td>0</td>\n",
       "    </tr>\n",
       "    <tr>\n",
       "      <th>1</th>\n",
       "      <td>e7e6</td>\n",
       "      <td>0.093</td>\n",
       "      <td>0.890</td>\n",
       "      <td>0.017</td>\n",
       "      <td>41.0</td>\n",
       "      <td>NaN</td>\n",
       "      <td>c7c5</td>\n",
       "      <td>32.0</td>\n",
       "      <td>NaN</td>\n",
       "      <td>e7e5</td>\n",
       "      <td>43</td>\n",
       "      <td>None</td>\n",
       "      <td>e7e6</td>\n",
       "      <td>52</td>\n",
       "      <td>None</td>\n",
       "      <td>0</td>\n",
       "      <td>1</td>\n",
       "    </tr>\n",
       "    <tr>\n",
       "      <th>2</th>\n",
       "      <td>d2d4</td>\n",
       "      <td>0.014</td>\n",
       "      <td>0.878</td>\n",
       "      <td>0.108</td>\n",
       "      <td>49.0</td>\n",
       "      <td>NaN</td>\n",
       "      <td>d2d4</td>\n",
       "      <td>27.0</td>\n",
       "      <td>NaN</td>\n",
       "      <td>b1c3</td>\n",
       "      <td>27</td>\n",
       "      <td>None</td>\n",
       "      <td>g1f3</td>\n",
       "      <td>15</td>\n",
       "      <td>None</td>\n",
       "      <td>0</td>\n",
       "      <td>2</td>\n",
       "    </tr>\n",
       "  </tbody>\n",
       "</table>\n",
       "</div>"
      ]
     },
     "execution_count": 5,
     "metadata": {},
     "output_type": "execute_result"
    }
   ],
   "execution_count": 5
  },
  {
   "metadata": {},
   "cell_type": "markdown",
   "source": "Отлично! Такой формат нас более чем устроит. Запомним его, дальше он нам пригодится",
   "id": "ac9f1990e6c4d806"
  },
  {
   "metadata": {},
   "cell_type": "markdown",
   "source": "Но вот незадача, мы не знаем размеры нашего датафрейма. Давайте посмотрим на распределение классов. Хорошо что мы уже получали весь датафрейм, воспользуемся им",
   "id": "1027850acd31af3f"
  },
  {
   "metadata": {
    "ExecuteTime": {
     "end_time": "2024-06-06T07:11:46.116763Z",
     "start_time": "2024-06-06T07:11:44.814683Z"
    }
   },
   "cell_type": "code",
   "source": [
    "df = pd.read_csv('../data/lichess_db_standard_rated_2013-01.csv')\n",
    "df['white_rating_num'] = df['white_elo'].apply(rating_to_number)\n",
    "df['black_rating_num'] = df['black_elo'].apply(rating_to_number)\n",
    "df['white_rating_num'].value_counts()"
   ],
   "id": "898002bcf023d7b8",
   "outputs": [
    {
     "data": {
      "text/plain": [
       "white_rating_num\n",
       "2    46018\n",
       "3    35050\n",
       "1    13483\n",
       "0    12367\n",
       "4     8170\n",
       "5     3716\n",
       "6     2300\n",
       "7       10\n",
       "Name: count, dtype: int64"
      ]
     },
     "execution_count": 6,
     "metadata": {},
     "output_type": "execute_result"
    }
   ],
   "execution_count": 6
  },
  {
   "metadata": {
    "ExecuteTime": {
     "end_time": "2024-06-06T07:11:46.128931Z",
     "start_time": "2024-06-06T07:11:46.119657Z"
    }
   },
   "cell_type": "code",
   "source": "df['black_rating_num'].value_counts()",
   "id": "b7b68d24e0895c15",
   "outputs": [
    {
     "data": {
      "text/plain": [
       "black_rating_num\n",
       "2    46658\n",
       "3    32426\n",
       "1    14139\n",
       "0    13864\n",
       "4     7988\n",
       "5     3657\n",
       "6     2375\n",
       "7        7\n",
       "Name: count, dtype: int64"
      ]
     },
     "execution_count": 7,
     "metadata": {},
     "output_type": "execute_result"
    }
   ],
   "execution_count": 7
  },
  {
   "metadata": {},
   "cell_type": "markdown",
   "source": "Мы знаем, что одна игра обрабатывается ~1 минуту. Если мы спим ~6 часов, тогда нам хватит на 360 игр! Тогда давайте возьмем с каждого класса ~500 игр, но т.к. в игре могут играть разные классы, то ~1000 участников с каждым рейтингом. Тогда посчитаем количество игр, которые будут в итоговом датасете",
   "id": "2d1793682b35f8d"
  },
  {
   "metadata": {
    "ExecuteTime": {
     "end_time": "2024-06-06T07:17:48.278319Z",
     "start_time": "2024-06-06T07:11:46.130693Z"
    }
   },
   "cell_type": "code",
   "source": [
    "proc = Preprocessor()\n",
    "MAX_USER_NUM = 1000\n",
    "rating_num_count = {0: 0, 1: 0, 2: 0, 3: 0, 4: 0, 5: 0, 6: 0, 7: 0}\n",
    "\n",
    "i = 0\n",
    "required_headers = ['Event', 'Result', 'WhiteElo', 'BlackElo', 'WhiteRatingDiff', 'BlackRatingDiff', 'ECO', 'Opening',\n",
    "                    'TimeControl', 'Termination']\n",
    "with open(\"../data/lichess_db_standard_rated_2013-01.pgn\") as pgn:\n",
    "    while True:\n",
    "        game = chess.pgn.read_game(pgn)\n",
    "        if game is None:\n",
    "            break\n",
    "\n",
    "        if not all(header in game.headers for header in required_headers) or '?' in game.headers['Event'] + \\\n",
    "                game.headers['Result'] + game.headers['WhiteElo'] + game.headers['BlackElo'] + game.headers[\n",
    "            'WhiteRatingDiff'] + game.headers['BlackRatingDiff'] + game.headers['ECO'] + game.headers[\n",
    "            'Opening'] + game.headers['TimeControl'] + game.headers['Termination']:\n",
    "            continue\n",
    "        white_elo = int(game.headers['WhiteElo'])\n",
    "        white_num = rating_to_number(white_elo)\n",
    "\n",
    "        black_elo = int(game.headers['BlackElo'])\n",
    "        black_num = rating_to_number(black_elo)\n",
    "        if rating_num_count[white_num] < MAX_USER_NUM or rating_num_count[black_num] < MAX_USER_NUM:\n",
    "            rating_num_count[white_num] += 1\n",
    "            rating_num_count[black_num] += 1\n",
    "            i += 1\n",
    "i"
   ],
   "id": "d0d96c78d660b6ad",
   "outputs": [
    {
     "data": {
      "text/plain": [
       "4702"
      ]
     },
     "execution_count": 8,
     "metadata": {},
     "output_type": "execute_result"
    }
   ],
   "execution_count": 8
  },
  {
   "metadata": {},
   "cell_type": "markdown",
   "source": [
    "Не густо, но будем работать с чем имеем. Если поймем, что данных мало, то на этот случай сохраним индексы игр в датасете, чтобы сохранять игры, на которых мы уже обучились\n",
    "\n",
    "Теперь самое интересное, давай сохраним в 2 датасета:\n",
    "1) Информацию о всей партии\n",
    "2) Информацию про ходы для каждой партии\n",
    "Сохранять мы будем для того, чтобы читать данные из csv, что хотя-бы реально по времени"
   ],
   "id": "f4d72d6b2d276f9a"
  },
  {
   "metadata": {
    "ExecuteTime": {
     "end_time": "2024-06-06T07:24:26.284476Z",
     "start_time": "2024-06-06T07:17:48.280650Z"
    }
   },
   "cell_type": "code",
   "source": [
    "proc = Preprocessor()\n",
    "rating_num_count = {0: 0, 1: 0, 2: 0, 3: 0, 4: 0, 5: 0, 6: 0, 7: 0}\n",
    "GAME_COUNT = i\n",
    "\n",
    "i = 0\n",
    "game_id = 0\n",
    "required_headers = ['Event', 'Result', 'WhiteElo', 'BlackElo', 'WhiteRatingDiff', 'BlackRatingDiff', 'ECO', 'Opening',\n",
    "                    'TimeControl', 'Termination']\n",
    "\n",
    "events = np.empty(GAME_COUNT, dtype=object)\n",
    "results = np.empty(GAME_COUNT, dtype=object)\n",
    "\n",
    "white_elo = np.empty(GAME_COUNT, dtype=int)\n",
    "black_elo = np.empty(GAME_COUNT, dtype=int)\n",
    "white_rating_diff = np.empty(GAME_COUNT, dtype=int)\n",
    "black_rating_diff = np.empty(GAME_COUNT, dtype=int)\n",
    "\n",
    "ecos = np.empty(GAME_COUNT, dtype=object)\n",
    "openings = np.empty(GAME_COUNT, dtype=object)\n",
    "\n",
    "time_control = np.empty(GAME_COUNT, dtype=object)\n",
    "termination = np.empty(GAME_COUNT, dtype=object)\n",
    "\n",
    "game_ids = np.empty(GAME_COUNT, dtype=int)\n",
    "\n",
    "all_moves = []\n",
    "\n",
    "with open(\"../data/lichess_db_standard_rated_2013-01.pgn\") as pgn:\n",
    "    while True:\n",
    "        game = chess.pgn.read_game(pgn)\n",
    "        if game is None:\n",
    "            break\n",
    "\n",
    "        if not all(header in game.headers for header in required_headers) or '?' in game.headers['Event'] + \\\n",
    "                game.headers['Result'] + game.headers['WhiteElo'] + game.headers['BlackElo'] + game.headers[\n",
    "            'WhiteRatingDiff'] + game.headers['BlackRatingDiff'] + game.headers['ECO'] + game.headers[\n",
    "            'Opening'] + game.headers['TimeControl'] + game.headers['Termination']:\n",
    "            continue\n",
    "        game_white_elo = int(game.headers['WhiteElo'])\n",
    "        white_num = rating_to_number(game_white_elo)\n",
    "\n",
    "        game_black_elo = int(game.headers['BlackElo'])\n",
    "        black_num = rating_to_number(game_black_elo)\n",
    "        if rating_num_count[white_num] < MAX_USER_NUM or rating_num_count[black_num] < MAX_USER_NUM:\n",
    "            rating_num_count[white_num] += 1\n",
    "            rating_num_count[black_num] += 1\n",
    "\n",
    "            events[i] = game.headers['Event']\n",
    "            results[i] = game.headers['Result']\n",
    "            white_elo[i] = game_white_elo\n",
    "            black_elo[i] = game_black_elo\n",
    "            white_rating_diff[i] = game.headers['WhiteRatingDiff']\n",
    "            black_rating_diff[i] = game.headers['BlackRatingDiff']\n",
    "            ecos[i] = game.headers['ECO']\n",
    "            openings[i] = game.headers['Opening']\n",
    "            time_control[i] = game.headers['TimeControl']\n",
    "            termination[i] = game.headers['Termination']\n",
    "            game_ids[i] = game_id\n",
    "\n",
    "            all_moves.append(str(game.mainline_moves()))\n",
    "            i += 1\n",
    "        game_id += 1\n",
    "\n",
    "df = pd.DataFrame({'Events': events, 'results': results, 'white_elo': white_elo, 'black_elo': black_elo,\n",
    "                   'white_rating_diff': white_rating_diff, 'black_rating_diff': black_rating_diff, 'ecos': ecos,\n",
    "                   'openings': openings, 'time_control': time_control, 'termination': termination,\n",
    "                   'game_id': game_ids})\n"
   ],
   "id": "f17cafa51acdd863",
   "outputs": [],
   "execution_count": 9
  },
  {
   "metadata": {
    "ExecuteTime": {
     "end_time": "2024-06-06T07:24:26.305402Z",
     "start_time": "2024-06-06T07:24:26.285817Z"
    }
   },
   "cell_type": "code",
   "source": "df.head(5)",
   "id": "7b2364fcf435f714",
   "outputs": [
    {
     "data": {
      "text/plain": [
       "                 Events results  white_elo  black_elo  white_rating_diff  \\\n",
       "0  Rated Classical game     1-0       1639       1403                  5   \n",
       "1  Rated Classical game     1-0       1654       1919                 19   \n",
       "2  Rated Classical game     1-0       1643       1747                 13   \n",
       "3     Rated Bullet game     0-1       1824       1973                 -6   \n",
       "4     Rated Bullet game     0-1       1765       1815                 -9   \n",
       "\n",
       "   black_rating_diff ecos                                     openings  \\\n",
       "0                 -8  C00             French Defense: Normal Variation   \n",
       "1                -22  D04  Queen's Pawn Game: Colle System, Anti-Colle   \n",
       "2                -94  C50         Four Knights Game: Italian Variation   \n",
       "3                  8  B12         Caro-Kann Defense: Goldman Variation   \n",
       "4                  9  C00     French Defense: La Bourdonnais Variation   \n",
       "\n",
       "  time_control termination  game_id  \n",
       "0        600+8      Normal        0  \n",
       "1        480+2      Normal        1  \n",
       "2       420+17      Normal        2  \n",
       "3         60+1      Normal        3  \n",
       "4         60+1      Normal        4  "
      ],
      "text/html": [
       "<div>\n",
       "<style scoped>\n",
       "    .dataframe tbody tr th:only-of-type {\n",
       "        vertical-align: middle;\n",
       "    }\n",
       "\n",
       "    .dataframe tbody tr th {\n",
       "        vertical-align: top;\n",
       "    }\n",
       "\n",
       "    .dataframe thead th {\n",
       "        text-align: right;\n",
       "    }\n",
       "</style>\n",
       "<table border=\"1\" class=\"dataframe\">\n",
       "  <thead>\n",
       "    <tr style=\"text-align: right;\">\n",
       "      <th></th>\n",
       "      <th>Events</th>\n",
       "      <th>results</th>\n",
       "      <th>white_elo</th>\n",
       "      <th>black_elo</th>\n",
       "      <th>white_rating_diff</th>\n",
       "      <th>black_rating_diff</th>\n",
       "      <th>ecos</th>\n",
       "      <th>openings</th>\n",
       "      <th>time_control</th>\n",
       "      <th>termination</th>\n",
       "      <th>game_id</th>\n",
       "    </tr>\n",
       "  </thead>\n",
       "  <tbody>\n",
       "    <tr>\n",
       "      <th>0</th>\n",
       "      <td>Rated Classical game</td>\n",
       "      <td>1-0</td>\n",
       "      <td>1639</td>\n",
       "      <td>1403</td>\n",
       "      <td>5</td>\n",
       "      <td>-8</td>\n",
       "      <td>C00</td>\n",
       "      <td>French Defense: Normal Variation</td>\n",
       "      <td>600+8</td>\n",
       "      <td>Normal</td>\n",
       "      <td>0</td>\n",
       "    </tr>\n",
       "    <tr>\n",
       "      <th>1</th>\n",
       "      <td>Rated Classical game</td>\n",
       "      <td>1-0</td>\n",
       "      <td>1654</td>\n",
       "      <td>1919</td>\n",
       "      <td>19</td>\n",
       "      <td>-22</td>\n",
       "      <td>D04</td>\n",
       "      <td>Queen's Pawn Game: Colle System, Anti-Colle</td>\n",
       "      <td>480+2</td>\n",
       "      <td>Normal</td>\n",
       "      <td>1</td>\n",
       "    </tr>\n",
       "    <tr>\n",
       "      <th>2</th>\n",
       "      <td>Rated Classical game</td>\n",
       "      <td>1-0</td>\n",
       "      <td>1643</td>\n",
       "      <td>1747</td>\n",
       "      <td>13</td>\n",
       "      <td>-94</td>\n",
       "      <td>C50</td>\n",
       "      <td>Four Knights Game: Italian Variation</td>\n",
       "      <td>420+17</td>\n",
       "      <td>Normal</td>\n",
       "      <td>2</td>\n",
       "    </tr>\n",
       "    <tr>\n",
       "      <th>3</th>\n",
       "      <td>Rated Bullet game</td>\n",
       "      <td>0-1</td>\n",
       "      <td>1824</td>\n",
       "      <td>1973</td>\n",
       "      <td>-6</td>\n",
       "      <td>8</td>\n",
       "      <td>B12</td>\n",
       "      <td>Caro-Kann Defense: Goldman Variation</td>\n",
       "      <td>60+1</td>\n",
       "      <td>Normal</td>\n",
       "      <td>3</td>\n",
       "    </tr>\n",
       "    <tr>\n",
       "      <th>4</th>\n",
       "      <td>Rated Bullet game</td>\n",
       "      <td>0-1</td>\n",
       "      <td>1765</td>\n",
       "      <td>1815</td>\n",
       "      <td>-9</td>\n",
       "      <td>9</td>\n",
       "      <td>C00</td>\n",
       "      <td>French Defense: La Bourdonnais Variation</td>\n",
       "      <td>60+1</td>\n",
       "      <td>Normal</td>\n",
       "      <td>4</td>\n",
       "    </tr>\n",
       "  </tbody>\n",
       "</table>\n",
       "</div>"
      ]
     },
     "execution_count": 10,
     "metadata": {},
     "output_type": "execute_result"
    }
   ],
   "execution_count": 10
  },
  {
   "metadata": {},
   "cell_type": "markdown",
   "source": "Запишем этот data_frame в csv, чтобы с ним можно было быстрее работать",
   "id": "bb90e0ccabadb65c"
  },
  {
   "metadata": {
    "ExecuteTime": {
     "end_time": "2024-06-06T08:20:40.861329Z",
     "start_time": "2024-06-06T08:20:40.828611Z"
    }
   },
   "cell_type": "code",
   "source": "df.to_csv(\"../data/clear_data.csv\", encoding='utf-8', index=False)",
   "id": "33feca910e1e156a",
   "outputs": [],
   "execution_count": 27
  },
  {
   "metadata": {},
   "cell_type": "markdown",
   "source": "Теперь давайте напишем функцию, которая будет принимать отрезок ходов, которые мы хотим обрабатывать, соответсвующие индексы ",
   "id": "bb42243134a69586"
  },
  {
   "metadata": {
    "ExecuteTime": {
     "end_time": "2024-06-06T07:25:03.749417Z",
     "start_time": "2024-06-06T07:25:03.735408Z"
    }
   },
   "cell_type": "code",
   "source": [
    "def get_preprocessed_df(l, r, moves, _game_ids):\n",
    "    # count in [l, r)\n",
    "    _all_stats = []\n",
    "    for ind in range(l, r, 1):\n",
    "        _proc = Preprocessor()\n",
    "        _proc.read_pgn_from_string(moves[ind])\n",
    "        _proc.calculate_wdl()\n",
    "        _proc.calculate_evaluation_stat()\n",
    "        _proc.calculate_n_best_lines(n=3)\n",
    "        df_stat = _proc.get_stats_per_move(add_wdl_stats=True, add_evaluation_stats=True, n_best_lines=3)\n",
    "        df_stat['game_id'] = _game_ids[ind]\n",
    "        df_stat['move_number'] = np.arange(df_stat['game_id'].shape[0])\n",
    "        _all_stats.append(df_stat)\n",
    "\n",
    "    return _all_stats"
   ],
   "id": "fd3183972fdf6a08",
   "outputs": [],
   "execution_count": 13
  },
  {
   "metadata": {},
   "cell_type": "markdown",
   "source": "Давайте проверим, действительно ли с потоками программа будет выполняться быстрее. Для этого засечем время и проверим на отрезке [0, 9)",
   "id": "397c426634689c3a"
  },
  {
   "metadata": {
    "ExecuteTime": {
     "end_time": "2024-06-06T07:38:05.947835Z",
     "start_time": "2024-06-06T07:25:15.698526Z"
    }
   },
   "cell_type": "code",
   "source": [
    "%%time\n",
    "all_stats_without_thread = get_preprocessed_df(0, 9, all_moves, game_ids)"
   ],
   "id": "72c48e8d1726812f",
   "outputs": [
    {
     "name": "stdout",
     "output_type": "stream",
     "text": [
      "CPU times: user 1.21 s, sys: 276 ms, total: 1.49 s\n",
      "Wall time: 12min 50s\n"
     ]
    }
   ],
   "execution_count": 14
  },
  {
   "metadata": {
    "ExecuteTime": {
     "end_time": "2024-06-06T07:46:06.895452Z",
     "start_time": "2024-06-06T07:38:58.239884Z"
    }
   },
   "cell_type": "code",
   "source": [
    "%%time\n",
    "from concurrent.futures import ThreadPoolExecutor\n",
    "\n",
    "with ThreadPoolExecutor() as executor:\n",
    "    future1 = executor.submit(get_preprocessed_df, 0, 3, all_moves, game_ids)\n",
    "    future2 = executor.submit(get_preprocessed_df, 3, 6, all_moves, game_ids)\n",
    "    future3 = executor.submit(get_preprocessed_df, 6, 9, all_moves, game_ids)\n",
    "\n",
    "    return1 = future1.result()\n",
    "    return2 = future2.result()\n",
    "    return3 = future3.result()\n",
    "\n",
    "len(return1 + return2 + return3)"
   ],
   "id": "77e3722234d263b4",
   "outputs": [
    {
     "name": "stdout",
     "output_type": "stream",
     "text": [
      "CPU times: user 1.56 s, sys: 372 ms, total: 1.93 s\n",
      "Wall time: 7min 8s\n"
     ]
    },
    {
     "data": {
      "text/plain": [
       "9"
      ]
     },
     "execution_count": 16,
     "metadata": {},
     "output_type": "execute_result"
    }
   ],
   "execution_count": 16
  },
  {
   "metadata": {},
   "cell_type": "markdown",
   "source": "Прирост хоть и не в 3 раза, но какой-то да есть. Давайте попробуем запустить процессы и посмотреть как долго они будут работать. Для них нужна своя фунция, которая будет принимать очередь (с помощью которой умеют общаться потоки)",
   "id": "6412e2c89192b256"
  },
  {
   "metadata": {
    "ExecuteTime": {
     "end_time": "2024-06-06T07:50:16.342535Z",
     "start_time": "2024-06-06T07:50:16.336234Z"
    }
   },
   "cell_type": "code",
   "source": [
    "def get_preprocessed_df_in_process(l, r, moves, _game_ids, return_dict, process_id):\n",
    "    # count in [l, r)\n",
    "    _all_stats = []\n",
    "    for ind in range(l, r, 1):\n",
    "        _proc = Preprocessor()\n",
    "        _proc.read_pgn_from_string(moves[ind])\n",
    "        _proc.calculate_wdl()\n",
    "        _proc.calculate_evaluation_stat()\n",
    "        _proc.calculate_n_best_lines(n=3)\n",
    "        df_stat = _proc.get_stats_per_move(add_wdl_stats=True, add_evaluation_stats=True, n_best_lines=3)\n",
    "        df_stat['game_id'] = _game_ids[ind]\n",
    "        df_stat['move_number'] = np.arange(df_stat['game_id'].shape[0])\n",
    "        _all_stats.append(df_stat)\n",
    "    return_dict[process_id] = _all_stats"
   ],
   "id": "f1bd6aa57e521815",
   "outputs": [],
   "execution_count": 18
  },
  {
   "metadata": {
    "ExecuteTime": {
     "end_time": "2024-06-06T07:57:58.206868Z",
     "start_time": "2024-06-06T07:50:45.158833Z"
    }
   },
   "cell_type": "code",
   "source": [
    "%%time\n",
    "from multiprocessing import Process, Manager\n",
    "\n",
    "with Manager() as manager:\n",
    "    return_dict = manager.dict()\n",
    "    processes = [\n",
    "        Process(target=get_preprocessed_df_in_process, args=(i * 3, (i + 1) * 3, all_moves, game_ids, return_dict, i))\n",
    "        for i in range(3)]\n",
    "    for p in processes:\n",
    "        p.start()\n",
    "    for p in processes:\n",
    "        p.join()\n",
    "    print(len(list(return_dict.values())))\n"
   ],
   "id": "85b1dafe7e06fc86",
   "outputs": [
    {
     "name": "stdout",
     "output_type": "stream",
     "text": [
      "3\n",
      "CPU times: user 32.8 ms, sys: 36 ms, total: 68.9 ms\n",
      "Wall time: 7min 13s\n"
     ]
    }
   ],
   "execution_count": 20
  },
  {
   "metadata": {},
   "cell_type": "markdown",
   "source": "Процессы нас тоже не спасли (почему-то). Тогда давайте напишем на потоках, прочитаем первые 240 записей из 8 потоков. Для этого сначала проверим что результаты потоки вернули верные (сравним их с результатами 1 потока), а затем поставим так скажем на загрузгу наши потоки",
   "id": "a6064d6d4ed8bdb2"
  },
  {
   "metadata": {},
   "cell_type": "markdown",
   "source": [
    "8 потоков обрабатывали (каждый) 1 игру в сумме 4 минуты. Что примерно 30 секунд на игру\n",
    "16 потоков обрабатывали (каждый) 1 игру в сумме 8 минуты. Что примерно также 30 секунд на игру. Поэтому оставим 8 потоков "
   ],
   "id": "4deb1698e7db8b79"
  },
  {
   "metadata": {
    "ExecuteTime": {
     "end_time": "2024-06-06T12:31:12.303463Z",
     "start_time": "2024-06-06T09:52:18.131048Z"
    }
   },
   "cell_type": "code",
   "source": [
    "%%time\n",
    "from concurrent.futures import ThreadPoolExecutor\n",
    "\n",
    "THREAD_COUNT = 8\n",
    "STEP = 30\n",
    "all_res = []\n",
    "with ThreadPoolExecutor() as executor:\n",
    "    all_future = [executor.submit(get_preprocessed_df, i * STEP, (i + 1) * STEP, all_moves, game_ids) for i in\n",
    "                  range(THREAD_COUNT)]\n",
    "    for future in all_future:\n",
    "        all_res += future.result()\n",
    "len(all_res)"
   ],
   "id": "1d0cb50922664385",
   "outputs": [
    {
     "name": "stdout",
     "output_type": "stream",
     "text": [
      "CPU times: user 1min 52s, sys: 24.8 s, total: 2min 17s\n",
      "Wall time: 2h 38min 54s\n"
     ]
    },
    {
     "data": {
      "text/plain": [
       "240"
      ]
     },
     "execution_count": 31,
     "metadata": {},
     "output_type": "execute_result"
    }
   ],
   "execution_count": 31
  },
  {
   "metadata": {
    "ExecuteTime": {
     "end_time": "2024-06-06T12:31:12.330608Z",
     "start_time": "2024-06-06T12:31:12.304840Z"
    }
   },
   "cell_type": "code",
   "source": "all_res[239]",
   "id": "341b2ed834d72539",
   "outputs": [
    {
     "data": {
      "text/plain": [
       "     move    win   draw   lose  centipawns  moves_to_force_mate  \\\n",
       "0    e2e4  0.020  0.900  0.080        33.0                  NaN   \n",
       "1    e7e5  0.088  0.894  0.018        38.0                  NaN   \n",
       "2    g1f3  0.020  0.900  0.080        33.0                  NaN   \n",
       "3    d7d6  0.154  0.837  0.009        67.0                  NaN   \n",
       "4    g2g3  0.027  0.917  0.056        16.0                  NaN   \n",
       "..    ...    ...    ...    ...         ...                  ...   \n",
       "104  g6f7  0.000  0.000  1.000      7163.0                  NaN   \n",
       "105  h8h7  1.000  0.000  0.000      7239.0                  NaN   \n",
       "106  g5g6  0.000  0.000  1.000         NaN                 10.0   \n",
       "107  h7h8  1.000  0.000  0.000         NaN                  3.0   \n",
       "108  g6g7  0.000  0.000  1.000         NaN                  2.0   \n",
       "\n",
       "    best_line_1_move  best_line_1_centipawns  best_line_1_moves_to_force_mate  \\\n",
       "0               e2e4                    44.0                              NaN   \n",
       "1               c7c5                    32.0                              NaN   \n",
       "2               g1f3                    41.0                              NaN   \n",
       "3               b8c6                    58.0                              NaN   \n",
       "4               d2d4                    71.0                              NaN   \n",
       "..               ...                     ...                              ...   \n",
       "104             g6f7                  7149.0                              NaN   \n",
       "105             h8h7                  7096.0                              NaN   \n",
       "106             g5g6                  7222.0                              NaN   \n",
       "107             h7h6                     NaN                             11.0   \n",
       "108             g6g7                     NaN                              3.0   \n",
       "\n",
       "    best_line_2_move  best_line_2_centipawns  best_line_2_moves_to_force_mate  \\\n",
       "0               d2d4                    33.0                              NaN   \n",
       "1               e7e5                    43.0                              NaN   \n",
       "2               f1e2                     6.0                              NaN   \n",
       "3               g8f6                    76.0                              NaN   \n",
       "4               f1c4                    44.0                              NaN   \n",
       "..               ...                     ...                              ...   \n",
       "104             g6f5                  5750.0                              NaN   \n",
       "105             h8h7                  7096.0                              NaN   \n",
       "106             f7e7                  5849.0                              NaN   \n",
       "107             h7h8                     NaN                              3.0   \n",
       "108             f7e8                     NaN                              8.0   \n",
       "\n",
       "    best_line_3_move  best_line_3_centipawns  best_line_3_moves_to_force_mate  \\\n",
       "0               g1f3                    24.0                              NaN   \n",
       "1               e7e6                    52.0                              NaN   \n",
       "2               b1c3                     0.0                              NaN   \n",
       "3               d7d6                    78.0                              NaN   \n",
       "4               b1c3                    41.0                              NaN   \n",
       "..               ...                     ...                              ...   \n",
       "104             g6h5                  5652.0                              NaN   \n",
       "105             h8h7                  7096.0                              NaN   \n",
       "106             f7e6                  5849.0                              NaN   \n",
       "107             h7h8                     NaN                              3.0   \n",
       "108             f7e7                     NaN                              8.0   \n",
       "\n",
       "     game_id  move_number  \n",
       "0        239            0  \n",
       "1        239            1  \n",
       "2        239            2  \n",
       "3        239            3  \n",
       "4        239            4  \n",
       "..       ...          ...  \n",
       "104      239          104  \n",
       "105      239          105  \n",
       "106      239          106  \n",
       "107      239          107  \n",
       "108      239          108  \n",
       "\n",
       "[109 rows x 17 columns]"
      ],
      "text/html": [
       "<div>\n",
       "<style scoped>\n",
       "    .dataframe tbody tr th:only-of-type {\n",
       "        vertical-align: middle;\n",
       "    }\n",
       "\n",
       "    .dataframe tbody tr th {\n",
       "        vertical-align: top;\n",
       "    }\n",
       "\n",
       "    .dataframe thead th {\n",
       "        text-align: right;\n",
       "    }\n",
       "</style>\n",
       "<table border=\"1\" class=\"dataframe\">\n",
       "  <thead>\n",
       "    <tr style=\"text-align: right;\">\n",
       "      <th></th>\n",
       "      <th>move</th>\n",
       "      <th>win</th>\n",
       "      <th>draw</th>\n",
       "      <th>lose</th>\n",
       "      <th>centipawns</th>\n",
       "      <th>moves_to_force_mate</th>\n",
       "      <th>best_line_1_move</th>\n",
       "      <th>best_line_1_centipawns</th>\n",
       "      <th>best_line_1_moves_to_force_mate</th>\n",
       "      <th>best_line_2_move</th>\n",
       "      <th>best_line_2_centipawns</th>\n",
       "      <th>best_line_2_moves_to_force_mate</th>\n",
       "      <th>best_line_3_move</th>\n",
       "      <th>best_line_3_centipawns</th>\n",
       "      <th>best_line_3_moves_to_force_mate</th>\n",
       "      <th>game_id</th>\n",
       "      <th>move_number</th>\n",
       "    </tr>\n",
       "  </thead>\n",
       "  <tbody>\n",
       "    <tr>\n",
       "      <th>0</th>\n",
       "      <td>e2e4</td>\n",
       "      <td>0.020</td>\n",
       "      <td>0.900</td>\n",
       "      <td>0.080</td>\n",
       "      <td>33.0</td>\n",
       "      <td>NaN</td>\n",
       "      <td>e2e4</td>\n",
       "      <td>44.0</td>\n",
       "      <td>NaN</td>\n",
       "      <td>d2d4</td>\n",
       "      <td>33.0</td>\n",
       "      <td>NaN</td>\n",
       "      <td>g1f3</td>\n",
       "      <td>24.0</td>\n",
       "      <td>NaN</td>\n",
       "      <td>239</td>\n",
       "      <td>0</td>\n",
       "    </tr>\n",
       "    <tr>\n",
       "      <th>1</th>\n",
       "      <td>e7e5</td>\n",
       "      <td>0.088</td>\n",
       "      <td>0.894</td>\n",
       "      <td>0.018</td>\n",
       "      <td>38.0</td>\n",
       "      <td>NaN</td>\n",
       "      <td>c7c5</td>\n",
       "      <td>32.0</td>\n",
       "      <td>NaN</td>\n",
       "      <td>e7e5</td>\n",
       "      <td>43.0</td>\n",
       "      <td>NaN</td>\n",
       "      <td>e7e6</td>\n",
       "      <td>52.0</td>\n",
       "      <td>NaN</td>\n",
       "      <td>239</td>\n",
       "      <td>1</td>\n",
       "    </tr>\n",
       "    <tr>\n",
       "      <th>2</th>\n",
       "      <td>g1f3</td>\n",
       "      <td>0.020</td>\n",
       "      <td>0.900</td>\n",
       "      <td>0.080</td>\n",
       "      <td>33.0</td>\n",
       "      <td>NaN</td>\n",
       "      <td>g1f3</td>\n",
       "      <td>41.0</td>\n",
       "      <td>NaN</td>\n",
       "      <td>f1e2</td>\n",
       "      <td>6.0</td>\n",
       "      <td>NaN</td>\n",
       "      <td>b1c3</td>\n",
       "      <td>0.0</td>\n",
       "      <td>NaN</td>\n",
       "      <td>239</td>\n",
       "      <td>2</td>\n",
       "    </tr>\n",
       "    <tr>\n",
       "      <th>3</th>\n",
       "      <td>d7d6</td>\n",
       "      <td>0.154</td>\n",
       "      <td>0.837</td>\n",
       "      <td>0.009</td>\n",
       "      <td>67.0</td>\n",
       "      <td>NaN</td>\n",
       "      <td>b8c6</td>\n",
       "      <td>58.0</td>\n",
       "      <td>NaN</td>\n",
       "      <td>g8f6</td>\n",
       "      <td>76.0</td>\n",
       "      <td>NaN</td>\n",
       "      <td>d7d6</td>\n",
       "      <td>78.0</td>\n",
       "      <td>NaN</td>\n",
       "      <td>239</td>\n",
       "      <td>3</td>\n",
       "    </tr>\n",
       "    <tr>\n",
       "      <th>4</th>\n",
       "      <td>g2g3</td>\n",
       "      <td>0.027</td>\n",
       "      <td>0.917</td>\n",
       "      <td>0.056</td>\n",
       "      <td>16.0</td>\n",
       "      <td>NaN</td>\n",
       "      <td>d2d4</td>\n",
       "      <td>71.0</td>\n",
       "      <td>NaN</td>\n",
       "      <td>f1c4</td>\n",
       "      <td>44.0</td>\n",
       "      <td>NaN</td>\n",
       "      <td>b1c3</td>\n",
       "      <td>41.0</td>\n",
       "      <td>NaN</td>\n",
       "      <td>239</td>\n",
       "      <td>4</td>\n",
       "    </tr>\n",
       "    <tr>\n",
       "      <th>...</th>\n",
       "      <td>...</td>\n",
       "      <td>...</td>\n",
       "      <td>...</td>\n",
       "      <td>...</td>\n",
       "      <td>...</td>\n",
       "      <td>...</td>\n",
       "      <td>...</td>\n",
       "      <td>...</td>\n",
       "      <td>...</td>\n",
       "      <td>...</td>\n",
       "      <td>...</td>\n",
       "      <td>...</td>\n",
       "      <td>...</td>\n",
       "      <td>...</td>\n",
       "      <td>...</td>\n",
       "      <td>...</td>\n",
       "      <td>...</td>\n",
       "    </tr>\n",
       "    <tr>\n",
       "      <th>104</th>\n",
       "      <td>g6f7</td>\n",
       "      <td>0.000</td>\n",
       "      <td>0.000</td>\n",
       "      <td>1.000</td>\n",
       "      <td>7163.0</td>\n",
       "      <td>NaN</td>\n",
       "      <td>g6f7</td>\n",
       "      <td>7149.0</td>\n",
       "      <td>NaN</td>\n",
       "      <td>g6f5</td>\n",
       "      <td>5750.0</td>\n",
       "      <td>NaN</td>\n",
       "      <td>g6h5</td>\n",
       "      <td>5652.0</td>\n",
       "      <td>NaN</td>\n",
       "      <td>239</td>\n",
       "      <td>104</td>\n",
       "    </tr>\n",
       "    <tr>\n",
       "      <th>105</th>\n",
       "      <td>h8h7</td>\n",
       "      <td>1.000</td>\n",
       "      <td>0.000</td>\n",
       "      <td>0.000</td>\n",
       "      <td>7239.0</td>\n",
       "      <td>NaN</td>\n",
       "      <td>h8h7</td>\n",
       "      <td>7096.0</td>\n",
       "      <td>NaN</td>\n",
       "      <td>h8h7</td>\n",
       "      <td>7096.0</td>\n",
       "      <td>NaN</td>\n",
       "      <td>h8h7</td>\n",
       "      <td>7096.0</td>\n",
       "      <td>NaN</td>\n",
       "      <td>239</td>\n",
       "      <td>105</td>\n",
       "    </tr>\n",
       "    <tr>\n",
       "      <th>106</th>\n",
       "      <td>g5g6</td>\n",
       "      <td>0.000</td>\n",
       "      <td>0.000</td>\n",
       "      <td>1.000</td>\n",
       "      <td>NaN</td>\n",
       "      <td>10.0</td>\n",
       "      <td>g5g6</td>\n",
       "      <td>7222.0</td>\n",
       "      <td>NaN</td>\n",
       "      <td>f7e7</td>\n",
       "      <td>5849.0</td>\n",
       "      <td>NaN</td>\n",
       "      <td>f7e6</td>\n",
       "      <td>5849.0</td>\n",
       "      <td>NaN</td>\n",
       "      <td>239</td>\n",
       "      <td>106</td>\n",
       "    </tr>\n",
       "    <tr>\n",
       "      <th>107</th>\n",
       "      <td>h7h8</td>\n",
       "      <td>1.000</td>\n",
       "      <td>0.000</td>\n",
       "      <td>0.000</td>\n",
       "      <td>NaN</td>\n",
       "      <td>3.0</td>\n",
       "      <td>h7h6</td>\n",
       "      <td>NaN</td>\n",
       "      <td>11.0</td>\n",
       "      <td>h7h8</td>\n",
       "      <td>NaN</td>\n",
       "      <td>3.0</td>\n",
       "      <td>h7h8</td>\n",
       "      <td>NaN</td>\n",
       "      <td>3.0</td>\n",
       "      <td>239</td>\n",
       "      <td>107</td>\n",
       "    </tr>\n",
       "    <tr>\n",
       "      <th>108</th>\n",
       "      <td>g6g7</td>\n",
       "      <td>0.000</td>\n",
       "      <td>0.000</td>\n",
       "      <td>1.000</td>\n",
       "      <td>NaN</td>\n",
       "      <td>2.0</td>\n",
       "      <td>g6g7</td>\n",
       "      <td>NaN</td>\n",
       "      <td>3.0</td>\n",
       "      <td>f7e8</td>\n",
       "      <td>NaN</td>\n",
       "      <td>8.0</td>\n",
       "      <td>f7e7</td>\n",
       "      <td>NaN</td>\n",
       "      <td>8.0</td>\n",
       "      <td>239</td>\n",
       "      <td>108</td>\n",
       "    </tr>\n",
       "  </tbody>\n",
       "</table>\n",
       "<p>109 rows × 17 columns</p>\n",
       "</div>"
      ]
     },
     "execution_count": 32,
     "metadata": {},
     "output_type": "execute_result"
    }
   ],
   "execution_count": 32
  },
  {
   "metadata": {
    "ExecuteTime": {
     "end_time": "2024-06-06T12:31:12.657455Z",
     "start_time": "2024-06-06T12:31:12.331782Z"
    }
   },
   "cell_type": "code",
   "source": [
    "res = pd.concat([i for i in all_res])\n",
    "res.to_csv(\"../data/first_240.csv\", encoding='utf-8', index=False)"
   ],
   "id": "61632e3ac9de9553",
   "outputs": [],
   "execution_count": 33
  },
  {
   "metadata": {},
   "cell_type": "code",
   "outputs": [],
   "execution_count": null,
   "source": "",
   "id": "cc4bcd99a00e952a"
  }
 ],
 "metadata": {
  "kernelspec": {
   "display_name": "Python 3",
   "language": "python",
   "name": "python3"
  },
  "language_info": {
   "codemirror_mode": {
    "name": "ipython",
    "version": 2
   },
   "file_extension": ".py",
   "mimetype": "text/x-python",
   "name": "python",
   "nbconvert_exporter": "python",
   "pygments_lexer": "ipython2",
   "version": "2.7.6"
  }
 },
 "nbformat": 4,
 "nbformat_minor": 5
}
