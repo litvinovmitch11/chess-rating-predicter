{
 "cells": [
  {
   "cell_type": "code",
   "id": "initial_id",
   "metadata": {
    "collapsed": true,
    "ExecuteTime": {
     "end_time": "2024-06-06T20:49:09.073728Z",
     "start_time": "2024-06-06T20:49:07.319589Z"
    }
   },
   "source": [
    "import pandas as pd\n",
    "import numpy as np\n",
    "import matplotlib.pyplot as plt\n",
    "from sklearn.linear_model import LogisticRegression\n",
    "from sklearn.ensemble import RandomForestClassifier\n",
    "from sklearn.tree import DecisionTreeRegressor\n",
    "from sklearn.metrics import f1_score, r2_score, balanced_accuracy_score\n",
    "from sklearn.model_selection import train_test_split"
   ],
   "execution_count": 1,
   "outputs": []
  },
  {
   "metadata": {
    "ExecuteTime": {
     "end_time": "2024-06-06T20:49:09.203894Z",
     "start_time": "2024-06-06T20:49:09.076708Z"
    }
   },
   "cell_type": "code",
   "source": [
    "df_first240 = pd.read_csv(\"../data/first_240.csv\")\n",
    "df_from_240_to_360 = pd.read_csv(\"../data/from_240_to_360.csv\")\n",
    "df_from_360_to_480 = pd.read_csv(\"../data/from_360_480.csv\")"
   ],
   "id": "7f93fc377d4470e9",
   "execution_count": 2,
   "outputs": []
  },
  {
   "metadata": {
    "ExecuteTime": {
     "end_time": "2024-06-06T20:49:09.226646Z",
     "start_time": "2024-06-06T20:49:09.207379Z"
    }
   },
   "cell_type": "code",
   "source": [
    "df_moves = pd.concat([df_first240, df_from_240_to_360, df_from_360_to_480])\n",
    "GAME_COUNT = 480"
   ],
   "id": "1f32af21137e9bad",
   "execution_count": 3,
   "outputs": []
  },
  {
   "metadata": {
    "ExecuteTime": {
     "end_time": "2024-06-06T20:49:09.266568Z",
     "start_time": "2024-06-06T20:49:09.230386Z"
    }
   },
   "cell_type": "code",
   "source": [
    "df_games = pd.read_csv(\"../data/clear_data.csv\")\n",
    "df_games = df_games.head(GAME_COUNT)\n",
    "df_games['game_id'].value_counts()"
   ],
   "id": "7b5e1f8639eeb51c",
   "execution_count": 4,
   "outputs": []
  },
  {
   "metadata": {},
   "cell_type": "markdown",
   "source": "Для начала попробуем угадывать рейтинг только белого игрока. С черным должно быть то же самое",
   "id": "2bf4de0bf1a5a6a5"
  },
  {
   "metadata": {
    "ExecuteTime": {
     "end_time": "2024-06-06T20:49:09.276883Z",
     "start_time": "2024-06-06T20:49:09.268953Z"
    }
   },
   "cell_type": "code",
   "source": [
    "def percent_best_move(game_id, ost=0):\n",
    "    # ost = 0 если смотрим ходы белых, иначе ost = 1\n",
    "    move_in_game = df_moves[(df_moves['game_id'] == game_id) & (df_moves['move_number'] % 2 == ost)]\n",
    "    matches = move_in_game[\n",
    "        (move_in_game['move'] == move_in_game['best_line_1_move']) |\n",
    "        (move_in_game['move'] == move_in_game['best_line_2_move']) |\n",
    "        (move_in_game['move'] == move_in_game['best_line_3_move'])\n",
    "        ]\n",
    "    return matches.shape[0] / move_in_game.shape[0]"
   ],
   "id": "d8d39fa6a1b49949",
   "execution_count": 5,
   "outputs": []
  },
  {
   "metadata": {
    "ExecuteTime": {
     "end_time": "2024-06-06T20:49:11.194450Z",
     "start_time": "2024-06-06T20:49:09.279954Z"
    }
   },
   "cell_type": "code",
   "source": [
    "from rating_to_category import rating_to_number_easy\n",
    "\n",
    "df_games['white_percent_best_move'] = df_games['game_id'].apply(percent_best_move)\n",
    "df_games['white_rating_num'] = df_games['white_elo'].apply(rating_to_number_easy)\n",
    "df_games"
   ],
   "id": "b19d0d7a85d03b9",
   "execution_count": 6,
   "outputs": []
  },
  {
   "metadata": {
    "ExecuteTime": {
     "end_time": "2024-06-06T20:49:11.207909Z",
     "start_time": "2024-06-06T20:49:11.199754Z"
    }
   },
   "cell_type": "code",
   "source": "df_games['white_rating_num'].value_counts()",
   "id": "8dc7de6001746876",
   "execution_count": 7,
   "outputs": []
  },
  {
   "metadata": {
    "ExecuteTime": {
     "end_time": "2024-06-06T20:49:11.312686Z",
     "start_time": "2024-06-06T20:49:11.209960Z"
    }
   },
   "cell_type": "code",
   "source": [
    "df_train = df_games[['Events', 'results', 'termination', 'white_percent_best_move']]\n",
    "df_train = pd.get_dummies(df_train, columns=['termination', 'Events', 'results'])\n",
    "df_train"
   ],
   "id": "c9e4ff73ec029f42",
   "execution_count": 8,
   "outputs": []
  },
  {
   "metadata": {},
   "cell_type": "markdown",
   "source": "В качестве признаков возьмем процент ходов, которые мы считаем наилучшими",
   "id": "3ba5b5d0d38be5b3"
  },
  {
   "metadata": {
    "ExecuteTime": {
     "end_time": "2024-06-06T20:49:11.335396Z",
     "start_time": "2024-06-06T20:49:11.314836Z"
    }
   },
   "cell_type": "code",
   "source": [
    "x_train_white, x_test_white, y_train_white, y_test_white = train_test_split(\n",
    "    df_train, df_games['white_rating_num'],\n",
    "    train_size=0.8,\n",
    "    random_state=42)\n",
    "x_train_white.shape, x_test_white.shape, y_train_white.shape, y_test_white.shape"
   ],
   "id": "b407d3d6fe575c32",
   "execution_count": 9,
   "outputs": []
  },
  {
   "metadata": {
    "ExecuteTime": {
     "end_time": "2024-06-06T20:49:15.533576Z",
     "start_time": "2024-06-06T20:49:11.342884Z"
    }
   },
   "cell_type": "code",
   "source": [
    "from catboost import CatBoostClassifier\n",
    "\n",
    "\n",
    "def get_fit_predict_res(x_train, x_test, y_train, y_test):\n",
    "    models = {\n",
    "        \"LogisticRegression\": LogisticRegression(),\n",
    "        \"RandomForestClassifier\": RandomForestClassifier(),\n",
    "        \"Catboost\": CatBoostClassifier()\n",
    "    }\n",
    "    results = []\n",
    "    for name, model in models.items():\n",
    "        model.fit(x_train, y_train)\n",
    "        y_pred_test = model.predict(x_test)\n",
    "        y_pred_train = model.predict(x_train)\n",
    "        results.append({\n",
    "            \"model\": name,\n",
    "            \"f1_score test\": f1_score(y_true=y_test, y_pred=y_pred_test, average='micro'),\n",
    "            \"r2_score test\": r2_score(y_true=y_test, y_pred=y_pred_test),\n",
    "            \"balanced_accuracy test\": balanced_accuracy_score(y_true=y_test, y_pred=y_pred_test),\n",
    "            \"f1_score train\": f1_score(y_true=y_train, y_pred=y_pred_train, average='micro'),\n",
    "            \"r2_score train\": r2_score(y_true=y_train, y_pred=y_pred_train),\n",
    "            \"balanced_accuracy train\": balanced_accuracy_score(y_true=y_train, y_pred=y_pred_train),\n",
    "        })\n",
    "    return pd.DataFrame(results)\n",
    "\n",
    "\n",
    "get_fit_predict_res(x_train_white, x_test_white, y_train_white, y_test_white)"
   ],
   "id": "b0bde51efa3cef1a",
   "execution_count": 10,
   "outputs": []
  },
  {
   "metadata": {},
   "cell_type": "markdown",
   "source": "Результаты не впечатляют, давайте попробуем убрать все игры в пулю, т.к. в предположении люди почти не думают, прежде чем там сходить",
   "id": "160891801e4746c1"
  },
  {
   "metadata": {
    "ExecuteTime": {
     "end_time": "2024-06-06T20:49:15.556019Z",
     "start_time": "2024-06-06T20:49:15.536202Z"
    }
   },
   "cell_type": "code",
   "source": [
    "df_games_without_bullet = df_games[df_games['Events'] != 'Rated Bullet game']\n",
    "df_games_without_bullet['Events'].value_counts()"
   ],
   "id": "6d81c238a1d5107c",
   "execution_count": 11,
   "outputs": []
  },
  {
   "metadata": {
    "ExecuteTime": {
     "end_time": "2024-06-06T20:49:15.583704Z",
     "start_time": "2024-06-06T20:49:15.559988Z"
    }
   },
   "cell_type": "code",
   "source": [
    "df_train = df_games_without_bullet[['Events', 'results', 'termination', 'white_percent_best_move']]\n",
    "df_train = pd.get_dummies(df_train, columns=['termination', 'Events', 'results'])\n",
    "x_train_white, x_test_white, y_train_white, y_test_white = train_test_split(\n",
    "    df_train, df_games_without_bullet['white_rating_num'],\n",
    "    train_size=0.8,\n",
    "    random_state=42)\n",
    "x_train_white.shape, x_test_white.shape, y_train_white.shape, y_test_white.shape"
   ],
   "id": "c5512cebb93b4962",
   "execution_count": 12,
   "outputs": []
  },
  {
   "metadata": {
    "ExecuteTime": {
     "end_time": "2024-06-06T20:49:17.813928Z",
     "start_time": "2024-06-06T20:49:15.587801Z"
    }
   },
   "cell_type": "code",
   "source": "get_fit_predict_res(x_train_white, x_test_white, y_train_white, y_test_white)",
   "id": "3063eb5cbe061824",
   "execution_count": 13,
   "outputs": []
  },
  {
   "metadata": {},
   "cell_type": "markdown",
   "source": "Возможно дело в том, что только 1 признак. Давайте добавим в наша датафрейм ещё признаков, посмотрим что из этого выйдет",
   "id": "6a3a6c6506035d36"
  },
  {
   "metadata": {
    "ExecuteTime": {
     "end_time": "2024-06-06T20:49:21.028606Z",
     "start_time": "2024-06-06T20:49:17.816577Z"
    }
   },
   "cell_type": "code",
   "source": [
    "def min_max_delta_centipawns(game_id, ost=0, want=0):\n",
    "    # ost = 0, если смотрим на ходы белых\n",
    "    # want = 0, если интересуемся минимумом, want = 1, если нужен максимум и want = 2, если медиана\n",
    "    last = 0\n",
    "    _id = 0\n",
    "    min_max_median_delta = (1000, -1000, 0)\n",
    "    for centipawns in df_moves[df_moves['game_id'] == game_id].sort_values(by='move_number')['centipawns']:\n",
    "        if _id % 2 == ost and not np.isnan(centipawns):\n",
    "            min_max_median_delta = (\n",
    "                min(min_max_median_delta[0], centipawns - last), max(min_max_median_delta[1], centipawns - last),\n",
    "                min_max_median_delta[2] + centipawns)\n",
    "        last = centipawns\n",
    "        _id += 1\n",
    "    min_max_median_delta = (\n",
    "        min_max_median_delta[0] / 1000, min_max_median_delta[1] / 1000, (min_max_median_delta[2] / _id) / 1000)\n",
    "    if want == 0:\n",
    "        return min_max_median_delta[0]\n",
    "    elif want == 1:\n",
    "        return min_max_median_delta[1]\n",
    "    return min_max_median_delta[2]\n",
    "\n",
    "\n",
    "def min_centipawns_white(game_id):\n",
    "    return min_max_delta_centipawns(game_id, ost=0, want=0)\n",
    "\n",
    "\n",
    "def max_centipawns_white(game_id):\n",
    "    return min_max_delta_centipawns(game_id, ost=0, want=1)\n",
    "\n",
    "\n",
    "def median_centipawns_white(game_id):\n",
    "    return min_max_delta_centipawns(game_id, ost=0, want=2)\n",
    "\n",
    "\n",
    "def min_centipawns_black(game_id):\n",
    "    return min_max_delta_centipawns(game_id, ost=1, want=0)\n",
    "\n",
    "\n",
    "def max_centipawns_black(game_id):\n",
    "    return min_max_delta_centipawns(game_id, ost=1, want=1)\n",
    "\n",
    "\n",
    "def median_centipawns_black(game_id):\n",
    "    return min_max_delta_centipawns(game_id, ost=1, want=2)\n",
    "\n",
    "\n",
    "df_games['min_delta_centipawns_white'] = df_games['game_id'].apply(min_centipawns_white)\n",
    "df_games['max_delta_centipawns_white'] = df_games['game_id'].apply(max_centipawns_white)\n",
    "df_games['median_centipawns_white'] = df_games['game_id'].apply(median_centipawns_white)\n",
    "df_games.sort_values(by='white_elo')"
   ],
   "id": "6e8ef9df69a0701",
   "execution_count": 14,
   "outputs": []
  },
  {
   "metadata": {
    "ExecuteTime": {
     "end_time": "2024-06-06T20:49:22.193302Z",
     "start_time": "2024-06-06T20:49:21.031012Z"
    }
   },
   "cell_type": "code",
   "source": [
    "plt.scatter(df_games['white_elo'], df_games['max_delta_centipawns_white'])\n",
    "plt.show()\n",
    "plt.scatter(df_games['white_elo'], df_games['median_centipawns_white'])\n",
    "plt.show()\n",
    "plt.scatter(df_games['white_elo'], df_games['min_delta_centipawns_white'])\n",
    "plt.show()\n",
    "plt.scatter(df_games['white_elo'], df_games['white_percent_best_move'])\n",
    "plt.show()"
   ],
   "id": "2a01a247ddf82e01",
   "execution_count": 15,
   "outputs": []
  },
  {
   "metadata": {},
   "cell_type": "markdown",
   "source": "Попробуем обучиться на этих признаках",
   "id": "32068df717d3c6bc"
  },
  {
   "metadata": {
    "ExecuteTime": {
     "end_time": "2024-06-06T20:49:22.217783Z",
     "start_time": "2024-06-06T20:49:22.195304Z"
    }
   },
   "cell_type": "code",
   "source": "df_games",
   "id": "e2582fb4a35d5ae6",
   "execution_count": 16,
   "outputs": []
  },
  {
   "metadata": {
    "ExecuteTime": {
     "end_time": "2024-06-06T20:49:22.299858Z",
     "start_time": "2024-06-06T20:49:22.220325Z"
    }
   },
   "cell_type": "code",
   "source": [
    "df_train = df_games[['white_percent_best_move', 'min_delta_centipawns_white', 'max_delta_centipawns_white', 'median_centipawns_white']]\n",
    "x_train_white, x_test_white, y_train_white, y_test_white = train_test_split(\n",
    "    df_train, df_games['white_rating_num'],\n",
    "    train_size=0.8,\n",
    "    random_state=42)\n",
    "x_train_white.shape, x_test_white.shape, y_train_white.shape, y_test_white.shape"
   ],
   "id": "391a222f0950395",
   "execution_count": 17,
   "outputs": []
  },
  {
   "metadata": {
    "ExecuteTime": {
     "end_time": "2024-06-06T20:49:24.441639Z",
     "start_time": "2024-06-06T20:49:22.302590Z"
    }
   },
   "cell_type": "code",
   "source": "get_fit_predict_res(x_train_white, x_test_white, y_train_white, y_test_white)",
   "id": "1301a14d50259037",
   "execution_count": 18,
   "outputs": []
  },
  {
   "metadata": {
    "ExecuteTime": {
     "end_time": "2024-06-06T20:49:24.447083Z",
     "start_time": "2024-06-06T20:49:24.443964Z"
    }
   },
   "cell_type": "code",
   "source": "",
   "id": "5ff4f29730273b8b",
   "execution_count": 18,
   "outputs": []
  }
 ],
 "metadata": {
  "kernelspec": {
   "display_name": "Python 3",
   "language": "python",
   "name": "python3"
  },
  "language_info": {
   "codemirror_mode": {
    "name": "ipython",
    "version": 2
   },
   "file_extension": ".py",
   "mimetype": "text/x-python",
   "name": "python",
   "nbconvert_exporter": "python",
   "pygments_lexer": "ipython2",
   "version": "2.7.6"
  }
 },
 "nbformat": 4,
 "nbformat_minor": 5
}
