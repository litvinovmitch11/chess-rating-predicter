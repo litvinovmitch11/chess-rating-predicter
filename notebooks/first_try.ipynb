{
 "cells": [
  {
   "cell_type": "code",
   "id": "initial_id",
   "metadata": {
    "collapsed": true,
    "ExecuteTime": {
     "end_time": "2024-06-03T21:20:18.780405Z",
     "start_time": "2024-06-03T21:20:17.758041Z"
    }
   },
   "source": [
    "import pandas as pd\n",
    "from sklearn.linear_model import LogisticRegression\n",
    "from sklearn.ensemble import RandomForestClassifier\n",
    "from sklearn.tree import DecisionTreeRegressor\n",
    "from sklearn.metrics import f1_score, r2_score, balanced_accuracy_score\n",
    "from sklearn.model_selection import train_test_split"
   ],
   "execution_count": 1,
   "outputs": []
  },
  {
   "metadata": {
    "ExecuteTime": {
     "end_time": "2024-06-03T21:20:19.682766Z",
     "start_time": "2024-06-03T21:20:18.782135Z"
    }
   },
   "cell_type": "code",
   "source": [
    "df = pd.read_csv(\"../data/lichess_db_standard_rated_2013-01.csv\")\n",
    "df.dtypes"
   ],
   "id": "29e29f4436041c23",
   "execution_count": 2,
   "outputs": []
  },
  {
   "metadata": {},
   "cell_type": "markdown",
   "source": "Шахматные дебюты (они же ECO), кроются в самих ходах. В таком случае модели про них знать не обязательно (иначе зависимости в признаках). Это также касается опенингов",
   "id": "149b656638eb0a21"
  },
  {
   "metadata": {
    "ExecuteTime": {
     "end_time": "2024-06-03T21:20:19.702173Z",
     "start_time": "2024-06-03T21:20:19.684451Z"
    }
   },
   "cell_type": "code",
   "source": "df['termination'].value_counts()",
   "id": "a8e60f24ff9749ea",
   "execution_count": 3,
   "outputs": []
  },
  {
   "metadata": {},
   "cell_type": "markdown",
   "source": "Конец игры может быть двух видов: закончилось время или игра  ",
   "id": "4c933921eb934a5a"
  },
  {
   "metadata": {
    "ExecuteTime": {
     "end_time": "2024-06-03T21:20:19.779424Z",
     "start_time": "2024-06-03T21:20:19.704001Z"
    }
   },
   "cell_type": "code",
   "source": "df['results'].value_counts()",
   "id": "2a3cd6f574c0e9fe",
   "execution_count": 4,
   "outputs": []
  },
  {
   "metadata": {},
   "cell_type": "markdown",
   "source": "Результаты бывают 3ех видов: победа белых, победа черных и ничья",
   "id": "85f36a5375951c27"
  },
  {
   "metadata": {
    "ExecuteTime": {
     "end_time": "2024-06-03T21:20:19.800413Z",
     "start_time": "2024-06-03T21:20:19.781762Z"
    }
   },
   "cell_type": "code",
   "source": "df['Events'].value_counts()",
   "id": "3db9819bd37cb76e",
   "execution_count": 5,
   "outputs": []
  },
  {
   "metadata": {},
   "cell_type": "markdown",
   "source": "На самом деле поле time_control тоже зависит от типа события. Пока упростим задачу и будем просто угадывать для Blitz, Classical и Bullet партий рейтинги (турниры пока опустим)",
   "id": "295a413a40c89f42"
  },
  {
   "metadata": {
    "ExecuteTime": {
     "end_time": "2024-06-03T21:20:19.831824Z",
     "start_time": "2024-06-03T21:20:19.805905Z"
    }
   },
   "cell_type": "code",
   "source": "df.head()",
   "id": "f52334f1b62712c3",
   "execution_count": 6,
   "outputs": []
  },
  {
   "metadata": {},
   "cell_type": "markdown",
   "source": [
    "Итого хотим, зная последовательность ходов, тип игры, исходные рейтинги игроков угадывать рейтинги. Подготовим нашу дату.\n",
    "\n",
    "У каждого хода есть точка старта и точка прихода. Давайте напишем функцию, которая по позиции на доске вернет уникальное число\n",
    "\n",
    "Также напишем функцию, которая по точке старта и финиша (2 числа) вернет уникальное число конкретного хода"
   ],
   "id": "c62f0594089d474b"
  },
  {
   "metadata": {
    "ExecuteTime": {
     "end_time": "2024-06-03T21:20:19.844296Z",
     "start_time": "2024-06-03T21:20:19.833551Z"
    }
   },
   "cell_type": "code",
   "source": [
    "def get_cell_index(pos: str) -> int:  # return value in [0, 63]\n",
    "    return 8 * (ord(pos[0]) - ord('a')) + (ord(pos[1]) - ord('1'))\n",
    "\n",
    "\n",
    "def get_move_index(move: str) -> int:\n",
    "    return 64 * get_cell_index(move[0] + move[1]) + get_cell_index(move[2] + move[3])\n",
    "\n",
    "\n",
    "def change_all_moves(all_moves):\n",
    "    res = []\n",
    "    splt = all_moves.split(\"'\")\n",
    "    for i in range(1, len(splt), 2):\n",
    "        res.append(get_move_index(splt[i]))\n",
    "    return res"
   ],
   "id": "d60d15a98ce8958",
   "execution_count": 7,
   "outputs": []
  },
  {
   "metadata": {
    "ExecuteTime": {
     "end_time": "2024-06-03T21:20:28.029463Z",
     "start_time": "2024-06-03T21:20:19.845987Z"
    }
   },
   "cell_type": "code",
   "source": "df['moves_indexes'] = df['all_moves'].apply(change_all_moves)",
   "id": "fd821ec4b4ebcf48",
   "execution_count": 8,
   "outputs": []
  },
  {
   "metadata": {
    "ExecuteTime": {
     "end_time": "2024-06-03T21:20:28.052977Z",
     "start_time": "2024-06-03T21:20:28.032536Z"
    }
   },
   "cell_type": "code",
   "source": "df.head()",
   "id": "ab122aa95d579bb4",
   "execution_count": 9,
   "outputs": []
  },
  {
   "metadata": {},
   "cell_type": "markdown",
   "source": "Оставим только интересующие нас поля, пофильтруем их",
   "id": "d979c4d2f19e9fd3"
  },
  {
   "metadata": {
    "ExecuteTime": {
     "end_time": "2024-06-03T21:20:28.134720Z",
     "start_time": "2024-06-03T21:20:28.054670Z"
    }
   },
   "cell_type": "code",
   "source": [
    "df_clear = df[['Events', 'results', 'white_elo', 'black_elo', 'white_rating_diff', 'black_rating_diff', 'termination',\n",
    "               'moves_indexes']]"
   ],
   "id": "c392aa84ff174b28",
   "execution_count": 10,
   "outputs": []
  },
  {
   "metadata": {
    "ExecuteTime": {
     "end_time": "2024-06-03T21:20:28.152583Z",
     "start_time": "2024-06-03T21:20:28.136289Z"
    }
   },
   "cell_type": "code",
   "source": "df_clear.head()",
   "id": "b2fb4853270fe6aa",
   "execution_count": 11,
   "outputs": []
  },
  {
   "metadata": {
    "ExecuteTime": {
     "end_time": "2024-06-03T21:20:28.194499Z",
     "start_time": "2024-06-03T21:20:28.154260Z"
    }
   },
   "cell_type": "code",
   "source": [
    "df_clear = df_clear.loc[((df_clear['Events'] == 'Rated Classical game') | (\n",
    "        df_clear['Events'] == 'Rated Bullet game') | (df_clear['Events'] == 'Rated Blitz game')) & (\n",
    "                                abs(df_clear['white_rating_diff']) <= 10) & (\n",
    "                                abs(df_clear['black_rating_diff']) <= 10)]"
   ],
   "id": "cf21f6e3e8d44406",
   "execution_count": 12,
   "outputs": []
  },
  {
   "metadata": {
    "ExecuteTime": {
     "end_time": "2024-06-03T21:20:28.250701Z",
     "start_time": "2024-06-03T21:20:28.195886Z"
    }
   },
   "cell_type": "code",
   "source": [
    "from rating_to_category import rating_to_number\n",
    "\n",
    "df_test = df_clear[['Events', 'results', 'termination', 'moves_indexes']]\n",
    "df_predict_white = df_clear['white_elo'].apply(rating_to_number)\n",
    "df_predict_black = df_clear['black_elo'].apply(rating_to_number)"
   ],
   "id": "ffe1235da695af9f",
   "execution_count": 13,
   "outputs": []
  },
  {
   "metadata": {
    "ExecuteTime": {
     "end_time": "2024-06-03T21:20:28.260747Z",
     "start_time": "2024-06-03T21:20:28.254420Z"
    }
   },
   "cell_type": "code",
   "source": "df_test.shape, df_predict_white.shape, df_predict_black.shape",
   "id": "6011fca535039919",
   "execution_count": 14,
   "outputs": []
  },
  {
   "metadata": {
    "ExecuteTime": {
     "end_time": "2024-06-03T21:20:28.292843Z",
     "start_time": "2024-06-03T21:20:28.261856Z"
    }
   },
   "cell_type": "code",
   "source": "encoded = pd.get_dummies(df_test, columns=['termination', 'Events', 'results'])",
   "id": "d63d0ae5fd462eb7",
   "execution_count": 15,
   "outputs": []
  },
  {
   "metadata": {
    "ExecuteTime": {
     "end_time": "2024-06-03T21:20:28.315424Z",
     "start_time": "2024-06-03T21:20:28.294545Z"
    }
   },
   "cell_type": "code",
   "source": "encoded.head()",
   "id": "5121be36888abeba",
   "execution_count": 16,
   "outputs": []
  },
  {
   "metadata": {},
   "cell_type": "markdown",
   "source": "Ходы мы не можем оставить как массив чисел. Давайте условимся, что в партии не может быть больше 300 ходов (в нашем датасете это число 360). Если ходов будет больше - просто обросим их. Напишем функцию, которая по ходам вернет новый датафрейм, который мы соеденим с нашим исходным",
   "id": "57bfda0378d5597b"
  },
  {
   "metadata": {
    "ExecuteTime": {
     "end_time": "2024-06-03T21:20:28.329986Z",
     "start_time": "2024-06-03T21:20:28.320646Z"
    }
   },
   "cell_type": "code",
   "source": [
    "def get_new_df(moves):\n",
    "    MAX_MOVE_COUNT = 300\n",
    "    res = [[] for _ in range(MAX_MOVE_COUNT)]\n",
    "    for my_moves in moves:\n",
    "        for i in range(min(MAX_MOVE_COUNT, len(my_moves))):\n",
    "            res[i].append(my_moves[i])\n",
    "        for i in range(min(MAX_MOVE_COUNT, len(my_moves)), MAX_MOVE_COUNT):\n",
    "            res[i].append(0)\n",
    "    my_dict = {'move ' + str(i): res[i] for i in range(MAX_MOVE_COUNT)}\n",
    "    return pd.DataFrame(my_dict)"
   ],
   "id": "bb5fe1e2eae499ba",
   "execution_count": 17,
   "outputs": []
  },
  {
   "metadata": {
    "ExecuteTime": {
     "end_time": "2024-06-03T21:20:33.251163Z",
     "start_time": "2024-06-03T21:20:28.333090Z"
    }
   },
   "cell_type": "code",
   "source": [
    "res = get_new_df(encoded['moves_indexes'])\n",
    "res.shape, encoded.shape"
   ],
   "id": "3d58b7198b7235dd",
   "execution_count": 18,
   "outputs": []
  },
  {
   "metadata": {},
   "cell_type": "markdown",
   "source": "Теперь соединим наши датафреймы и уберем столбец moves_indexes (т.к. все ходы уже записаны в отдельных признаках)",
   "id": "7d37684d448acd01"
  },
  {
   "metadata": {
    "ExecuteTime": {
     "end_time": "2024-06-03T21:20:33.334281Z",
     "start_time": "2024-06-03T21:20:33.253105Z"
    }
   },
   "cell_type": "code",
   "source": [
    "total_df = pd.concat([encoded.reset_index(drop=True), res.reset_index(drop=True)], axis=1)\n",
    "del total_df['moves_indexes']\n",
    "total_df.head()"
   ],
   "id": "f0d1301a56547361",
   "execution_count": 19,
   "outputs": []
  },
  {
   "metadata": {
    "ExecuteTime": {
     "end_time": "2024-06-03T21:20:33.438672Z",
     "start_time": "2024-06-03T21:20:33.335732Z"
    }
   },
   "cell_type": "code",
   "source": [
    "x_train_white, x_test_white, y_train_white, y_test_white = train_test_split(total_df, df_predict_white, train_size=0.8,\n",
    "                                                                            random_state=42)\n",
    "x_train_white.shape, x_test_white.shape, y_train_white.shape, y_test_white.shape"
   ],
   "id": "d4ad5824dd2ef19d",
   "execution_count": 20,
   "outputs": []
  },
  {
   "metadata": {
    "ExecuteTime": {
     "end_time": "2024-06-03T21:20:33.445983Z",
     "start_time": "2024-06-03T21:20:33.440271Z"
    }
   },
   "cell_type": "code",
   "source": "y_train_white.unique(), y_test_white.unique()",
   "id": "5bdf74c53a5068b1",
   "execution_count": 21,
   "outputs": []
  },
  {
   "metadata": {},
   "cell_type": "markdown",
   "source": "Обучим модель для предсказания только рейтинга белого. Рейтинг черного не должен сильно отличаться",
   "id": "79eb53d7e8270e92"
  },
  {
   "metadata": {
    "ExecuteTime": {
     "end_time": "2024-06-03T21:21:02.536735Z",
     "start_time": "2024-06-03T21:20:33.447472Z"
    }
   },
   "cell_type": "code",
   "source": [
    "models = {\n",
    "    \"LogisticRegression\": LogisticRegression(),\n",
    "    \"RandomForestClassifier\": RandomForestClassifier()\n",
    "}\n",
    "results = []\n",
    "for name, model in models.items():\n",
    "    model.fit(x_train_white, y_train_white)\n",
    "    y_pred_test = model.predict(x_test_white)\n",
    "    y_pred_train = model.predict(x_train_white)\n",
    "    results.append({\n",
    "        \"model\": name,\n",
    "        \"f1_score test\": f1_score(y_true=y_test_white, y_pred=y_pred_test, average='micro'),\n",
    "        \"r2_score test\": r2_score(y_true=y_test_white, y_pred=y_pred_test),\n",
    "        \"balanced_accuracy test\": balanced_accuracy_score(y_true=y_test_white, y_pred=y_pred_test),\n",
    "        \"f1_score train\": f1_score(y_true=y_train_white, y_pred=y_pred_train, average='micro'),\n",
    "        \"r2_score train\": r2_score(y_true=y_train_white, y_pred=y_pred_train),\n",
    "        \"balanced_accuracy train\": balanced_accuracy_score(y_true=y_train_white, y_pred=y_pred_train),\n",
    "    })\n",
    "total_res = pd.DataFrame(results)\n",
    "total_res"
   ],
   "id": "8a96e9a15916941b",
   "execution_count": 22,
   "outputs": []
  }
 ],
 "metadata": {
  "kernelspec": {
   "display_name": "Python 3",
   "language": "python",
   "name": "python3"
  },
  "language_info": {
   "codemirror_mode": {
    "name": "ipython",
    "version": 2
   },
   "file_extension": ".py",
   "mimetype": "text/x-python",
   "name": "python",
   "nbconvert_exporter": "python",
   "pygments_lexer": "ipython2",
   "version": "2.7.6"
  }
 },
 "nbformat": 4,
 "nbformat_minor": 5
}
