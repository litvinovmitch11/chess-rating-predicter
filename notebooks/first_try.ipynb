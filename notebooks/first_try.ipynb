{
 "cells": [
  {
   "cell_type": "code",
   "id": "initial_id",
   "metadata": {
    "collapsed": true,
    "ExecuteTime": {
     "end_time": "2024-06-03T21:20:18.780405Z",
     "start_time": "2024-06-03T21:20:17.758041Z"
    }
   },
   "source": [
    "import pandas as pd\n",
    "from sklearn.linear_model import LogisticRegression\n",
    "from sklearn.ensemble import RandomForestClassifier\n",
    "from sklearn.tree import DecisionTreeRegressor\n",
    "from sklearn.metrics import f1_score, r2_score, balanced_accuracy_score\n",
    "from sklearn.model_selection import train_test_split"
   ],
   "outputs": [],
   "execution_count": 1
  },
  {
   "metadata": {
    "ExecuteTime": {
     "end_time": "2024-06-03T21:20:19.682766Z",
     "start_time": "2024-06-03T21:20:18.782135Z"
    }
   },
   "cell_type": "code",
   "source": [
    "df = pd.read_csv(\"../data/lichess_db_standard_rated_2013-01.csv\")\n",
    "df.dtypes"
   ],
   "id": "29e29f4436041c23",
   "outputs": [
    {
     "data": {
      "text/plain": [
       "Events               object\n",
       "results              object\n",
       "white_elo             int64\n",
       "black_elo             int64\n",
       "white_rating_diff     int64\n",
       "black_rating_diff     int64\n",
       "ecos                 object\n",
       "openings             object\n",
       "time_control         object\n",
       "termination          object\n",
       "all_moves            object\n",
       "dtype: object"
      ]
     },
     "execution_count": 2,
     "metadata": {},
     "output_type": "execute_result"
    }
   ],
   "execution_count": 2
  },
  {
   "metadata": {},
   "cell_type": "markdown",
   "source": "Шахматные дебюты (они же ECO), кроются в самих ходах. В таком случае модели про них знать не обязательно (иначе зависимости в признаках). Это также касается опенингов",
   "id": "149b656638eb0a21"
  },
  {
   "metadata": {
    "ExecuteTime": {
     "end_time": "2024-06-03T21:20:19.702173Z",
     "start_time": "2024-06-03T21:20:19.684451Z"
    }
   },
   "cell_type": "code",
   "source": "df['termination'].value_counts()",
   "id": "a8e60f24ff9749ea",
   "outputs": [
    {
     "data": {
      "text/plain": [
       "termination\n",
       "Normal          83273\n",
       "Time forfeit    37841\n",
       "Name: count, dtype: int64"
      ]
     },
     "execution_count": 3,
     "metadata": {},
     "output_type": "execute_result"
    }
   ],
   "execution_count": 3
  },
  {
   "metadata": {},
   "cell_type": "markdown",
   "source": "Конец игры может быть двух видов: закончилось время или игра  ",
   "id": "4c933921eb934a5a"
  },
  {
   "metadata": {
    "ExecuteTime": {
     "end_time": "2024-06-03T21:20:19.779424Z",
     "start_time": "2024-06-03T21:20:19.704001Z"
    }
   },
   "cell_type": "code",
   "source": "df['results'].value_counts()",
   "id": "2a3cd6f574c0e9fe",
   "outputs": [
    {
     "data": {
      "text/plain": [
       "results\n",
       "1-0        62009\n",
       "0-1        55139\n",
       "1/2-1/2     3966\n",
       "Name: count, dtype: int64"
      ]
     },
     "execution_count": 4,
     "metadata": {},
     "output_type": "execute_result"
    }
   ],
   "execution_count": 4
  },
  {
   "metadata": {},
   "cell_type": "markdown",
   "source": "Результаты бывают 3ех видов: победа белых, победа черных и ничья",
   "id": "85f36a5375951c27"
  },
  {
   "metadata": {
    "ExecuteTime": {
     "end_time": "2024-06-03T21:20:19.800413Z",
     "start_time": "2024-06-03T21:20:19.781762Z"
    }
   },
   "cell_type": "code",
   "source": "df['Events'].value_counts()",
   "id": "3db9819bd37cb76e",
   "outputs": [
    {
     "data": {
      "text/plain": [
       "Events\n",
       "Rated Blitz game                                                      45353\n",
       "Rated Classical game                                                  41679\n",
       "Rated Bullet game                                                     32687\n",
       "Rated Correspondence game                                               180\n",
       "Rated Blitz tournament https://lichess.org/tournament/eaxo4pkh           18\n",
       "                                                                      ...  \n",
       "Rated Classical tournament https://lichess.org/tournament/dshcjgey        2\n",
       "Rated Blitz tournament https://lichess.org/tournament/dbu4m3u3            2\n",
       "Rated Blitz tournament https://lichess.org/tournament/uitsh1pw            2\n",
       "Rated Blitz tournament https://lichess.org/tournament/lpotikyv            1\n",
       "Rated Bullet tournament https://lichess.org/tournament/k4se9ydi           1\n",
       "Name: count, Length: 151, dtype: int64"
      ]
     },
     "execution_count": 5,
     "metadata": {},
     "output_type": "execute_result"
    }
   ],
   "execution_count": 5
  },
  {
   "metadata": {},
   "cell_type": "markdown",
   "source": "На самом деле поле time_control тоже зависит от типа события. Пока упростим задачу и будем просто угадывать для Blitz, Classical и Bullet партий рейтинги (турниры пока опустим)",
   "id": "295a413a40c89f42"
  },
  {
   "metadata": {
    "ExecuteTime": {
     "end_time": "2024-06-03T21:20:19.831824Z",
     "start_time": "2024-06-03T21:20:19.805905Z"
    }
   },
   "cell_type": "code",
   "source": "df.head()",
   "id": "f52334f1b62712c3",
   "outputs": [
    {
     "data": {
      "text/plain": [
       "                 Events results  white_elo  black_elo  white_rating_diff  \\\n",
       "0  Rated Classical game     1-0       1639       1403                  5   \n",
       "1  Rated Classical game     1-0       1654       1919                 19   \n",
       "2  Rated Classical game     1-0       1643       1747                 13   \n",
       "3     Rated Bullet game     0-1       1824       1973                 -6   \n",
       "4     Rated Bullet game     0-1       1765       1815                 -9   \n",
       "\n",
       "   black_rating_diff ecos                                     openings  \\\n",
       "0                 -8  C00             French Defense: Normal Variation   \n",
       "1                -22  D04  Queen's Pawn Game: Colle System, Anti-Colle   \n",
       "2                -94  C50         Four Knights Game: Italian Variation   \n",
       "3                  8  B12         Caro-Kann Defense: Goldman Variation   \n",
       "4                  9  C00     French Defense: La Bourdonnais Variation   \n",
       "\n",
       "  time_control termination                                          all_moves  \n",
       "0        600+8      Normal  ['e2e4', 'e7e6', 'd2d4', 'b7b6', 'a2a3', 'c8b7...  \n",
       "1        480+2      Normal  ['d2d4', 'd7d5', 'g1f3', 'g8f6', 'e2e3', 'c8f5...  \n",
       "2       420+17      Normal  ['e2e4', 'e7e5', 'g1f3', 'b8c6', 'f1c4', 'g8f6...  \n",
       "3         60+1      Normal  ['e2e4', 'c7c6', 'b1c3', 'd7d5', 'd1f3', 'd5e4...  \n",
       "4         60+1      Normal  ['e2e4', 'e7e6', 'f2f4', 'd7d5', 'e4e5', 'c7c5...  "
      ],
      "text/html": [
       "<div>\n",
       "<style scoped>\n",
       "    .dataframe tbody tr th:only-of-type {\n",
       "        vertical-align: middle;\n",
       "    }\n",
       "\n",
       "    .dataframe tbody tr th {\n",
       "        vertical-align: top;\n",
       "    }\n",
       "\n",
       "    .dataframe thead th {\n",
       "        text-align: right;\n",
       "    }\n",
       "</style>\n",
       "<table border=\"1\" class=\"dataframe\">\n",
       "  <thead>\n",
       "    <tr style=\"text-align: right;\">\n",
       "      <th></th>\n",
       "      <th>Events</th>\n",
       "      <th>results</th>\n",
       "      <th>white_elo</th>\n",
       "      <th>black_elo</th>\n",
       "      <th>white_rating_diff</th>\n",
       "      <th>black_rating_diff</th>\n",
       "      <th>ecos</th>\n",
       "      <th>openings</th>\n",
       "      <th>time_control</th>\n",
       "      <th>termination</th>\n",
       "      <th>all_moves</th>\n",
       "    </tr>\n",
       "  </thead>\n",
       "  <tbody>\n",
       "    <tr>\n",
       "      <th>0</th>\n",
       "      <td>Rated Classical game</td>\n",
       "      <td>1-0</td>\n",
       "      <td>1639</td>\n",
       "      <td>1403</td>\n",
       "      <td>5</td>\n",
       "      <td>-8</td>\n",
       "      <td>C00</td>\n",
       "      <td>French Defense: Normal Variation</td>\n",
       "      <td>600+8</td>\n",
       "      <td>Normal</td>\n",
       "      <td>['e2e4', 'e7e6', 'd2d4', 'b7b6', 'a2a3', 'c8b7...</td>\n",
       "    </tr>\n",
       "    <tr>\n",
       "      <th>1</th>\n",
       "      <td>Rated Classical game</td>\n",
       "      <td>1-0</td>\n",
       "      <td>1654</td>\n",
       "      <td>1919</td>\n",
       "      <td>19</td>\n",
       "      <td>-22</td>\n",
       "      <td>D04</td>\n",
       "      <td>Queen's Pawn Game: Colle System, Anti-Colle</td>\n",
       "      <td>480+2</td>\n",
       "      <td>Normal</td>\n",
       "      <td>['d2d4', 'd7d5', 'g1f3', 'g8f6', 'e2e3', 'c8f5...</td>\n",
       "    </tr>\n",
       "    <tr>\n",
       "      <th>2</th>\n",
       "      <td>Rated Classical game</td>\n",
       "      <td>1-0</td>\n",
       "      <td>1643</td>\n",
       "      <td>1747</td>\n",
       "      <td>13</td>\n",
       "      <td>-94</td>\n",
       "      <td>C50</td>\n",
       "      <td>Four Knights Game: Italian Variation</td>\n",
       "      <td>420+17</td>\n",
       "      <td>Normal</td>\n",
       "      <td>['e2e4', 'e7e5', 'g1f3', 'b8c6', 'f1c4', 'g8f6...</td>\n",
       "    </tr>\n",
       "    <tr>\n",
       "      <th>3</th>\n",
       "      <td>Rated Bullet game</td>\n",
       "      <td>0-1</td>\n",
       "      <td>1824</td>\n",
       "      <td>1973</td>\n",
       "      <td>-6</td>\n",
       "      <td>8</td>\n",
       "      <td>B12</td>\n",
       "      <td>Caro-Kann Defense: Goldman Variation</td>\n",
       "      <td>60+1</td>\n",
       "      <td>Normal</td>\n",
       "      <td>['e2e4', 'c7c6', 'b1c3', 'd7d5', 'd1f3', 'd5e4...</td>\n",
       "    </tr>\n",
       "    <tr>\n",
       "      <th>4</th>\n",
       "      <td>Rated Bullet game</td>\n",
       "      <td>0-1</td>\n",
       "      <td>1765</td>\n",
       "      <td>1815</td>\n",
       "      <td>-9</td>\n",
       "      <td>9</td>\n",
       "      <td>C00</td>\n",
       "      <td>French Defense: La Bourdonnais Variation</td>\n",
       "      <td>60+1</td>\n",
       "      <td>Normal</td>\n",
       "      <td>['e2e4', 'e7e6', 'f2f4', 'd7d5', 'e4e5', 'c7c5...</td>\n",
       "    </tr>\n",
       "  </tbody>\n",
       "</table>\n",
       "</div>"
      ]
     },
     "execution_count": 6,
     "metadata": {},
     "output_type": "execute_result"
    }
   ],
   "execution_count": 6
  },
  {
   "metadata": {},
   "cell_type": "markdown",
   "source": [
    "Итого хотим, зная последовательность ходов, тип игры, исходные рейтинги игроков угадывать рейтинги. Подготовим нашу дату.\n",
    "\n",
    "У каждого хода есть точка старта и точка прихода. Давайте напишем функцию, которая по позиции на доске вернет уникальное число\n",
    "\n",
    "Также напишем функцию, которая по точке старта и финиша (2 числа) вернет уникальное число конкретного хода"
   ],
   "id": "c62f0594089d474b"
  },
  {
   "metadata": {
    "ExecuteTime": {
     "end_time": "2024-06-03T21:20:19.844296Z",
     "start_time": "2024-06-03T21:20:19.833551Z"
    }
   },
   "cell_type": "code",
   "source": [
    "def get_cell_index(pos: str) -> int:  # return value in [0, 63]\n",
    "    return 8 * (ord(pos[0]) - ord('a')) + (ord(pos[1]) - ord('1'))\n",
    "\n",
    "\n",
    "def get_move_index(move: str) -> int:\n",
    "    return 64 * get_cell_index(move[0] + move[1]) + get_cell_index(move[2] + move[3])\n",
    "\n",
    "\n",
    "def change_all_moves(all_moves):\n",
    "    res = []\n",
    "    splt = all_moves.split(\"'\")\n",
    "    for i in range(1, len(splt), 2):\n",
    "        res.append(get_move_index(splt[i]))\n",
    "    return res"
   ],
   "id": "d60d15a98ce8958",
   "outputs": [],
   "execution_count": 7
  },
  {
   "metadata": {
    "ExecuteTime": {
     "end_time": "2024-06-03T21:20:28.029463Z",
     "start_time": "2024-06-03T21:20:19.845987Z"
    }
   },
   "cell_type": "code",
   "source": "df['moves_indexes'] = df['all_moves'].apply(change_all_moves)",
   "id": "fd821ec4b4ebcf48",
   "outputs": [],
   "execution_count": 8
  },
  {
   "metadata": {
    "ExecuteTime": {
     "end_time": "2024-06-03T21:20:28.052977Z",
     "start_time": "2024-06-03T21:20:28.032536Z"
    }
   },
   "cell_type": "code",
   "source": "df.head()",
   "id": "ab122aa95d579bb4",
   "outputs": [
    {
     "data": {
      "text/plain": [
       "                 Events results  white_elo  black_elo  white_rating_diff  \\\n",
       "0  Rated Classical game     1-0       1639       1403                  5   \n",
       "1  Rated Classical game     1-0       1654       1919                 19   \n",
       "2  Rated Classical game     1-0       1643       1747                 13   \n",
       "3     Rated Bullet game     0-1       1824       1973                 -6   \n",
       "4     Rated Bullet game     0-1       1765       1815                 -9   \n",
       "\n",
       "   black_rating_diff ecos                                     openings  \\\n",
       "0                 -8  C00             French Defense: Normal Variation   \n",
       "1                -22  D04  Queen's Pawn Game: Colle System, Anti-Colle   \n",
       "2                -94  C50         Four Knights Game: Italian Variation   \n",
       "3                  8  B12         Caro-Kann Defense: Goldman Variation   \n",
       "4                  9  C00     French Defense: La Bourdonnais Variation   \n",
       "\n",
       "  time_control termination                                          all_moves  \\\n",
       "0        600+8      Normal  ['e2e4', 'e7e6', 'd2d4', 'b7b6', 'a2a3', 'c8b7...   \n",
       "1        480+2      Normal  ['d2d4', 'd7d5', 'g1f3', 'g8f6', 'e2e3', 'c8f5...   \n",
       "2       420+17      Normal  ['e2e4', 'e7e5', 'g1f3', 'b8c6', 'f1c4', 'g8f6...   \n",
       "3         60+1      Normal  ['e2e4', 'c7c6', 'b1c3', 'd7d5', 'd1f3', 'd5e4...   \n",
       "4         60+1      Normal  ['e2e4', 'e7e6', 'f2f4', 'd7d5', 'e4e5', 'c7c5...   \n",
       "\n",
       "                                       moves_indexes  \n",
       "0  [2147, 2469, 1627, 909, 66, 1486, 530, 3581, 1...  \n",
       "1  [1627, 1948, 3114, 3565, 2146, 1516, 2747, 286...  \n",
       "2  [2147, 2468, 3114, 981, 2579, 3565, 530, 3028,...  \n",
       "3  [2147, 1429, 530, 1948, 1578, 1827, 1187, 990,...  \n",
       "4  [2147, 2469, 2667, 1948, 2276, 1428, 3114, 199...  "
      ],
      "text/html": [
       "<div>\n",
       "<style scoped>\n",
       "    .dataframe tbody tr th:only-of-type {\n",
       "        vertical-align: middle;\n",
       "    }\n",
       "\n",
       "    .dataframe tbody tr th {\n",
       "        vertical-align: top;\n",
       "    }\n",
       "\n",
       "    .dataframe thead th {\n",
       "        text-align: right;\n",
       "    }\n",
       "</style>\n",
       "<table border=\"1\" class=\"dataframe\">\n",
       "  <thead>\n",
       "    <tr style=\"text-align: right;\">\n",
       "      <th></th>\n",
       "      <th>Events</th>\n",
       "      <th>results</th>\n",
       "      <th>white_elo</th>\n",
       "      <th>black_elo</th>\n",
       "      <th>white_rating_diff</th>\n",
       "      <th>black_rating_diff</th>\n",
       "      <th>ecos</th>\n",
       "      <th>openings</th>\n",
       "      <th>time_control</th>\n",
       "      <th>termination</th>\n",
       "      <th>all_moves</th>\n",
       "      <th>moves_indexes</th>\n",
       "    </tr>\n",
       "  </thead>\n",
       "  <tbody>\n",
       "    <tr>\n",
       "      <th>0</th>\n",
       "      <td>Rated Classical game</td>\n",
       "      <td>1-0</td>\n",
       "      <td>1639</td>\n",
       "      <td>1403</td>\n",
       "      <td>5</td>\n",
       "      <td>-8</td>\n",
       "      <td>C00</td>\n",
       "      <td>French Defense: Normal Variation</td>\n",
       "      <td>600+8</td>\n",
       "      <td>Normal</td>\n",
       "      <td>['e2e4', 'e7e6', 'd2d4', 'b7b6', 'a2a3', 'c8b7...</td>\n",
       "      <td>[2147, 2469, 1627, 909, 66, 1486, 530, 3581, 1...</td>\n",
       "    </tr>\n",
       "    <tr>\n",
       "      <th>1</th>\n",
       "      <td>Rated Classical game</td>\n",
       "      <td>1-0</td>\n",
       "      <td>1654</td>\n",
       "      <td>1919</td>\n",
       "      <td>19</td>\n",
       "      <td>-22</td>\n",
       "      <td>D04</td>\n",
       "      <td>Queen's Pawn Game: Colle System, Anti-Colle</td>\n",
       "      <td>480+2</td>\n",
       "      <td>Normal</td>\n",
       "      <td>['d2d4', 'd7d5', 'g1f3', 'g8f6', 'e2e3', 'c8f5...</td>\n",
       "      <td>[1627, 1948, 3114, 3565, 2146, 1516, 2747, 286...</td>\n",
       "    </tr>\n",
       "    <tr>\n",
       "      <th>2</th>\n",
       "      <td>Rated Classical game</td>\n",
       "      <td>1-0</td>\n",
       "      <td>1643</td>\n",
       "      <td>1747</td>\n",
       "      <td>13</td>\n",
       "      <td>-94</td>\n",
       "      <td>C50</td>\n",
       "      <td>Four Knights Game: Italian Variation</td>\n",
       "      <td>420+17</td>\n",
       "      <td>Normal</td>\n",
       "      <td>['e2e4', 'e7e5', 'g1f3', 'b8c6', 'f1c4', 'g8f6...</td>\n",
       "      <td>[2147, 2468, 3114, 981, 2579, 3565, 530, 3028,...</td>\n",
       "    </tr>\n",
       "    <tr>\n",
       "      <th>3</th>\n",
       "      <td>Rated Bullet game</td>\n",
       "      <td>0-1</td>\n",
       "      <td>1824</td>\n",
       "      <td>1973</td>\n",
       "      <td>-6</td>\n",
       "      <td>8</td>\n",
       "      <td>B12</td>\n",
       "      <td>Caro-Kann Defense: Goldman Variation</td>\n",
       "      <td>60+1</td>\n",
       "      <td>Normal</td>\n",
       "      <td>['e2e4', 'c7c6', 'b1c3', 'd7d5', 'd1f3', 'd5e4...</td>\n",
       "      <td>[2147, 1429, 530, 1948, 1578, 1827, 1187, 990,...</td>\n",
       "    </tr>\n",
       "    <tr>\n",
       "      <th>4</th>\n",
       "      <td>Rated Bullet game</td>\n",
       "      <td>0-1</td>\n",
       "      <td>1765</td>\n",
       "      <td>1815</td>\n",
       "      <td>-9</td>\n",
       "      <td>9</td>\n",
       "      <td>C00</td>\n",
       "      <td>French Defense: La Bourdonnais Variation</td>\n",
       "      <td>60+1</td>\n",
       "      <td>Normal</td>\n",
       "      <td>['e2e4', 'e7e6', 'f2f4', 'd7d5', 'e4e5', 'c7c5...</td>\n",
       "      <td>[2147, 2469, 2667, 1948, 2276, 1428, 3114, 199...</td>\n",
       "    </tr>\n",
       "  </tbody>\n",
       "</table>\n",
       "</div>"
      ]
     },
     "execution_count": 9,
     "metadata": {},
     "output_type": "execute_result"
    }
   ],
   "execution_count": 9
  },
  {
   "metadata": {},
   "cell_type": "markdown",
   "source": "Оставим только интересующие нас поля, пофильтруем их",
   "id": "d979c4d2f19e9fd3"
  },
  {
   "metadata": {
    "ExecuteTime": {
     "end_time": "2024-06-03T21:20:28.134720Z",
     "start_time": "2024-06-03T21:20:28.054670Z"
    }
   },
   "cell_type": "code",
   "source": [
    "df_clear = df[['Events', 'results', 'white_elo', 'black_elo', 'white_rating_diff', 'black_rating_diff', 'termination',\n",
    "               'moves_indexes']]"
   ],
   "id": "c392aa84ff174b28",
   "outputs": [],
   "execution_count": 10
  },
  {
   "metadata": {
    "ExecuteTime": {
     "end_time": "2024-06-03T21:20:28.152583Z",
     "start_time": "2024-06-03T21:20:28.136289Z"
    }
   },
   "cell_type": "code",
   "source": "df_clear.head()",
   "id": "b2fb4853270fe6aa",
   "outputs": [
    {
     "data": {
      "text/plain": [
       "                 Events results  white_elo  black_elo  white_rating_diff  \\\n",
       "0  Rated Classical game     1-0       1639       1403                  5   \n",
       "1  Rated Classical game     1-0       1654       1919                 19   \n",
       "2  Rated Classical game     1-0       1643       1747                 13   \n",
       "3     Rated Bullet game     0-1       1824       1973                 -6   \n",
       "4     Rated Bullet game     0-1       1765       1815                 -9   \n",
       "\n",
       "   black_rating_diff termination  \\\n",
       "0                 -8      Normal   \n",
       "1                -22      Normal   \n",
       "2                -94      Normal   \n",
       "3                  8      Normal   \n",
       "4                  9      Normal   \n",
       "\n",
       "                                       moves_indexes  \n",
       "0  [2147, 2469, 1627, 909, 66, 1486, 530, 3581, 1...  \n",
       "1  [1627, 1948, 3114, 3565, 2146, 1516, 2747, 286...  \n",
       "2  [2147, 2468, 3114, 981, 2579, 3565, 530, 3028,...  \n",
       "3  [2147, 1429, 530, 1948, 1578, 1827, 1187, 990,...  \n",
       "4  [2147, 2469, 2667, 1948, 2276, 1428, 3114, 199...  "
      ],
      "text/html": [
       "<div>\n",
       "<style scoped>\n",
       "    .dataframe tbody tr th:only-of-type {\n",
       "        vertical-align: middle;\n",
       "    }\n",
       "\n",
       "    .dataframe tbody tr th {\n",
       "        vertical-align: top;\n",
       "    }\n",
       "\n",
       "    .dataframe thead th {\n",
       "        text-align: right;\n",
       "    }\n",
       "</style>\n",
       "<table border=\"1\" class=\"dataframe\">\n",
       "  <thead>\n",
       "    <tr style=\"text-align: right;\">\n",
       "      <th></th>\n",
       "      <th>Events</th>\n",
       "      <th>results</th>\n",
       "      <th>white_elo</th>\n",
       "      <th>black_elo</th>\n",
       "      <th>white_rating_diff</th>\n",
       "      <th>black_rating_diff</th>\n",
       "      <th>termination</th>\n",
       "      <th>moves_indexes</th>\n",
       "    </tr>\n",
       "  </thead>\n",
       "  <tbody>\n",
       "    <tr>\n",
       "      <th>0</th>\n",
       "      <td>Rated Classical game</td>\n",
       "      <td>1-0</td>\n",
       "      <td>1639</td>\n",
       "      <td>1403</td>\n",
       "      <td>5</td>\n",
       "      <td>-8</td>\n",
       "      <td>Normal</td>\n",
       "      <td>[2147, 2469, 1627, 909, 66, 1486, 530, 3581, 1...</td>\n",
       "    </tr>\n",
       "    <tr>\n",
       "      <th>1</th>\n",
       "      <td>Rated Classical game</td>\n",
       "      <td>1-0</td>\n",
       "      <td>1654</td>\n",
       "      <td>1919</td>\n",
       "      <td>19</td>\n",
       "      <td>-22</td>\n",
       "      <td>Normal</td>\n",
       "      <td>[1627, 1948, 3114, 3565, 2146, 1516, 2747, 286...</td>\n",
       "    </tr>\n",
       "    <tr>\n",
       "      <th>2</th>\n",
       "      <td>Rated Classical game</td>\n",
       "      <td>1-0</td>\n",
       "      <td>1643</td>\n",
       "      <td>1747</td>\n",
       "      <td>13</td>\n",
       "      <td>-94</td>\n",
       "      <td>Normal</td>\n",
       "      <td>[2147, 2468, 3114, 981, 2579, 3565, 530, 3028,...</td>\n",
       "    </tr>\n",
       "    <tr>\n",
       "      <th>3</th>\n",
       "      <td>Rated Bullet game</td>\n",
       "      <td>0-1</td>\n",
       "      <td>1824</td>\n",
       "      <td>1973</td>\n",
       "      <td>-6</td>\n",
       "      <td>8</td>\n",
       "      <td>Normal</td>\n",
       "      <td>[2147, 1429, 530, 1948, 1578, 1827, 1187, 990,...</td>\n",
       "    </tr>\n",
       "    <tr>\n",
       "      <th>4</th>\n",
       "      <td>Rated Bullet game</td>\n",
       "      <td>0-1</td>\n",
       "      <td>1765</td>\n",
       "      <td>1815</td>\n",
       "      <td>-9</td>\n",
       "      <td>9</td>\n",
       "      <td>Normal</td>\n",
       "      <td>[2147, 2469, 2667, 1948, 2276, 1428, 3114, 199...</td>\n",
       "    </tr>\n",
       "  </tbody>\n",
       "</table>\n",
       "</div>"
      ]
     },
     "execution_count": 11,
     "metadata": {},
     "output_type": "execute_result"
    }
   ],
   "execution_count": 11
  },
  {
   "metadata": {
    "ExecuteTime": {
     "end_time": "2024-06-03T21:20:28.194499Z",
     "start_time": "2024-06-03T21:20:28.154260Z"
    }
   },
   "cell_type": "code",
   "source": [
    "df_clear = df_clear.loc[((df_clear['Events'] == 'Rated Classical game') | (\n",
    "        df_clear['Events'] == 'Rated Bullet game') | (df_clear['Events'] == 'Rated Blitz game')) & (\n",
    "                                abs(df_clear['white_rating_diff']) <= 10) & (\n",
    "                                abs(df_clear['black_rating_diff']) <= 10)]"
   ],
   "id": "cf21f6e3e8d44406",
   "outputs": [],
   "execution_count": 12
  },
  {
   "metadata": {
    "ExecuteTime": {
     "end_time": "2024-06-03T21:20:28.250701Z",
     "start_time": "2024-06-03T21:20:28.195886Z"
    }
   },
   "cell_type": "code",
   "source": [
    "from rating_to_category import rating_to_number\n",
    "\n",
    "df_test = df_clear[['Events', 'results', 'termination', 'moves_indexes']]\n",
    "df_predict_white = df_clear['white_elo'].apply(rating_to_number)\n",
    "df_predict_black = df_clear['black_elo'].apply(rating_to_number)"
   ],
   "id": "ffe1235da695af9f",
   "outputs": [],
   "execution_count": 13
  },
  {
   "metadata": {
    "ExecuteTime": {
     "end_time": "2024-06-03T21:20:28.260747Z",
     "start_time": "2024-06-03T21:20:28.254420Z"
    }
   },
   "cell_type": "code",
   "source": "df_test.shape, df_predict_white.shape, df_predict_black.shape",
   "id": "6011fca535039919",
   "outputs": [
    {
     "data": {
      "text/plain": [
       "((49531, 4), (49531,), (49531,))"
      ]
     },
     "execution_count": 14,
     "metadata": {},
     "output_type": "execute_result"
    }
   ],
   "execution_count": 14
  },
  {
   "metadata": {
    "ExecuteTime": {
     "end_time": "2024-06-03T21:20:28.292843Z",
     "start_time": "2024-06-03T21:20:28.261856Z"
    }
   },
   "cell_type": "code",
   "source": "encoded = pd.get_dummies(df_test, columns=['termination', 'Events', 'results'])",
   "id": "d63d0ae5fd462eb7",
   "outputs": [],
   "execution_count": 15
  },
  {
   "metadata": {
    "ExecuteTime": {
     "end_time": "2024-06-03T21:20:28.315424Z",
     "start_time": "2024-06-03T21:20:28.294545Z"
    }
   },
   "cell_type": "code",
   "source": "encoded.head()",
   "id": "5121be36888abeba",
   "outputs": [
    {
     "data": {
      "text/plain": [
       "                                        moves_indexes  termination_Normal  \\\n",
       "0   [2147, 2469, 1627, 909, 66, 1486, 530, 3581, 1...                True   \n",
       "3   [2147, 1429, 530, 1948, 1578, 1827, 1187, 990,...                True   \n",
       "4   [2147, 2469, 2667, 1948, 2276, 1428, 3114, 199...                True   \n",
       "7   [2147, 2468, 1107, 3028, 3114, 1949, 1626, 389...                True   \n",
       "14  [2147, 1428, 2667, 1948, 2268, 2012, 530, 1823...                True   \n",
       "\n",
       "    termination_Time forfeit  Events_Rated Blitz game  \\\n",
       "0                      False                    False   \n",
       "3                      False                    False   \n",
       "4                      False                    False   \n",
       "7                      False                    False   \n",
       "14                     False                     True   \n",
       "\n",
       "    Events_Rated Bullet game  Events_Rated Classical game  results_0-1  \\\n",
       "0                      False                         True        False   \n",
       "3                       True                        False         True   \n",
       "4                       True                        False         True   \n",
       "7                      False                         True        False   \n",
       "14                     False                        False        False   \n",
       "\n",
       "    results_1-0  results_1/2-1/2  \n",
       "0          True            False  \n",
       "3         False            False  \n",
       "4         False            False  \n",
       "7          True            False  \n",
       "14        False             True  "
      ],
      "text/html": [
       "<div>\n",
       "<style scoped>\n",
       "    .dataframe tbody tr th:only-of-type {\n",
       "        vertical-align: middle;\n",
       "    }\n",
       "\n",
       "    .dataframe tbody tr th {\n",
       "        vertical-align: top;\n",
       "    }\n",
       "\n",
       "    .dataframe thead th {\n",
       "        text-align: right;\n",
       "    }\n",
       "</style>\n",
       "<table border=\"1\" class=\"dataframe\">\n",
       "  <thead>\n",
       "    <tr style=\"text-align: right;\">\n",
       "      <th></th>\n",
       "      <th>moves_indexes</th>\n",
       "      <th>termination_Normal</th>\n",
       "      <th>termination_Time forfeit</th>\n",
       "      <th>Events_Rated Blitz game</th>\n",
       "      <th>Events_Rated Bullet game</th>\n",
       "      <th>Events_Rated Classical game</th>\n",
       "      <th>results_0-1</th>\n",
       "      <th>results_1-0</th>\n",
       "      <th>results_1/2-1/2</th>\n",
       "    </tr>\n",
       "  </thead>\n",
       "  <tbody>\n",
       "    <tr>\n",
       "      <th>0</th>\n",
       "      <td>[2147, 2469, 1627, 909, 66, 1486, 530, 3581, 1...</td>\n",
       "      <td>True</td>\n",
       "      <td>False</td>\n",
       "      <td>False</td>\n",
       "      <td>False</td>\n",
       "      <td>True</td>\n",
       "      <td>False</td>\n",
       "      <td>True</td>\n",
       "      <td>False</td>\n",
       "    </tr>\n",
       "    <tr>\n",
       "      <th>3</th>\n",
       "      <td>[2147, 1429, 530, 1948, 1578, 1827, 1187, 990,...</td>\n",
       "      <td>True</td>\n",
       "      <td>False</td>\n",
       "      <td>False</td>\n",
       "      <td>True</td>\n",
       "      <td>False</td>\n",
       "      <td>True</td>\n",
       "      <td>False</td>\n",
       "      <td>False</td>\n",
       "    </tr>\n",
       "    <tr>\n",
       "      <th>4</th>\n",
       "      <td>[2147, 2469, 2667, 1948, 2276, 1428, 3114, 199...</td>\n",
       "      <td>True</td>\n",
       "      <td>False</td>\n",
       "      <td>False</td>\n",
       "      <td>True</td>\n",
       "      <td>False</td>\n",
       "      <td>True</td>\n",
       "      <td>False</td>\n",
       "      <td>False</td>\n",
       "    </tr>\n",
       "    <tr>\n",
       "      <th>7</th>\n",
       "      <td>[2147, 2468, 1107, 3028, 3114, 1949, 1626, 389...</td>\n",
       "      <td>True</td>\n",
       "      <td>False</td>\n",
       "      <td>False</td>\n",
       "      <td>False</td>\n",
       "      <td>True</td>\n",
       "      <td>False</td>\n",
       "      <td>True</td>\n",
       "      <td>False</td>\n",
       "    </tr>\n",
       "    <tr>\n",
       "      <th>14</th>\n",
       "      <td>[2147, 1428, 2667, 1948, 2268, 2012, 530, 1823...</td>\n",
       "      <td>True</td>\n",
       "      <td>False</td>\n",
       "      <td>True</td>\n",
       "      <td>False</td>\n",
       "      <td>False</td>\n",
       "      <td>False</td>\n",
       "      <td>False</td>\n",
       "      <td>True</td>\n",
       "    </tr>\n",
       "  </tbody>\n",
       "</table>\n",
       "</div>"
      ]
     },
     "execution_count": 16,
     "metadata": {},
     "output_type": "execute_result"
    }
   ],
   "execution_count": 16
  },
  {
   "metadata": {},
   "cell_type": "markdown",
   "source": "Ходы мы не можем оставить как массив чисел. Давайте условимся, что в партии не может быть больше 300 ходов (в нашем датасете это число 360). Если ходов будет больше - просто обросим их. Напишем функцию, которая по ходам вернет новый датафрейм, который мы соеденим с нашим исходным",
   "id": "57bfda0378d5597b"
  },
  {
   "metadata": {
    "ExecuteTime": {
     "end_time": "2024-06-03T21:20:28.329986Z",
     "start_time": "2024-06-03T21:20:28.320646Z"
    }
   },
   "cell_type": "code",
   "source": [
    "def get_new_df(moves):\n",
    "    MAX_MOVE_COUNT = 300\n",
    "    res = [[] for _ in range(MAX_MOVE_COUNT)]\n",
    "    for my_moves in moves:\n",
    "        for i in range(min(MAX_MOVE_COUNT, len(my_moves))):\n",
    "            res[i].append(my_moves[i])\n",
    "        for i in range(min(MAX_MOVE_COUNT, len(my_moves)), MAX_MOVE_COUNT):\n",
    "            res[i].append(0)\n",
    "    my_dict = {'move ' + str(i): res[i] for i in range(MAX_MOVE_COUNT)}\n",
    "    return pd.DataFrame(my_dict)"
   ],
   "id": "bb5fe1e2eae499ba",
   "outputs": [],
   "execution_count": 17
  },
  {
   "metadata": {
    "ExecuteTime": {
     "end_time": "2024-06-03T21:20:33.251163Z",
     "start_time": "2024-06-03T21:20:28.333090Z"
    }
   },
   "cell_type": "code",
   "source": [
    "res = get_new_df(encoded['moves_indexes'])\n",
    "res.shape, encoded.shape"
   ],
   "id": "3d58b7198b7235dd",
   "outputs": [
    {
     "data": {
      "text/plain": [
       "((49531, 300), (49531, 9))"
      ]
     },
     "execution_count": 18,
     "metadata": {},
     "output_type": "execute_result"
    }
   ],
   "execution_count": 18
  },
  {
   "metadata": {},
   "cell_type": "markdown",
   "source": "Теперь соединим наши датафреймы и уберем столбец moves_indexes (т.к. все ходы уже записаны в отдельных признаках)",
   "id": "7d37684d448acd01"
  },
  {
   "metadata": {
    "ExecuteTime": {
     "end_time": "2024-06-03T21:20:33.334281Z",
     "start_time": "2024-06-03T21:20:33.253105Z"
    }
   },
   "cell_type": "code",
   "source": [
    "total_df = pd.concat([encoded.reset_index(drop=True), res.reset_index(drop=True)], axis=1)\n",
    "del total_df['moves_indexes']\n",
    "total_df.head()"
   ],
   "id": "f0d1301a56547361",
   "outputs": [
    {
     "data": {
      "text/plain": [
       "   termination_Normal  termination_Time forfeit  Events_Rated Blitz game  \\\n",
       "0                True                     False                    False   \n",
       "1                True                     False                    False   \n",
       "2                True                     False                    False   \n",
       "3                True                     False                    False   \n",
       "4                True                     False                     True   \n",
       "\n",
       "   Events_Rated Bullet game  Events_Rated Classical game  results_0-1  \\\n",
       "0                     False                         True        False   \n",
       "1                      True                        False         True   \n",
       "2                      True                        False         True   \n",
       "3                     False                         True        False   \n",
       "4                     False                        False        False   \n",
       "\n",
       "   results_1-0  results_1/2-1/2  move 0  move 1  ...  move 290  move 291  \\\n",
       "0         True            False    2147    2469  ...         0         0   \n",
       "1        False            False    2147    1429  ...         0         0   \n",
       "2        False            False    2147    2469  ...         0         0   \n",
       "3         True            False    2147    2468  ...         0         0   \n",
       "4        False             True    2147    1428  ...         0         0   \n",
       "\n",
       "   move 292  move 293  move 294  move 295  move 296  move 297  move 298  \\\n",
       "0         0         0         0         0         0         0         0   \n",
       "1         0         0         0         0         0         0         0   \n",
       "2         0         0         0         0         0         0         0   \n",
       "3         0         0         0         0         0         0         0   \n",
       "4         0         0         0         0         0         0         0   \n",
       "\n",
       "   move 299  \n",
       "0         0  \n",
       "1         0  \n",
       "2         0  \n",
       "3         0  \n",
       "4         0  \n",
       "\n",
       "[5 rows x 308 columns]"
      ],
      "text/html": [
       "<div>\n",
       "<style scoped>\n",
       "    .dataframe tbody tr th:only-of-type {\n",
       "        vertical-align: middle;\n",
       "    }\n",
       "\n",
       "    .dataframe tbody tr th {\n",
       "        vertical-align: top;\n",
       "    }\n",
       "\n",
       "    .dataframe thead th {\n",
       "        text-align: right;\n",
       "    }\n",
       "</style>\n",
       "<table border=\"1\" class=\"dataframe\">\n",
       "  <thead>\n",
       "    <tr style=\"text-align: right;\">\n",
       "      <th></th>\n",
       "      <th>termination_Normal</th>\n",
       "      <th>termination_Time forfeit</th>\n",
       "      <th>Events_Rated Blitz game</th>\n",
       "      <th>Events_Rated Bullet game</th>\n",
       "      <th>Events_Rated Classical game</th>\n",
       "      <th>results_0-1</th>\n",
       "      <th>results_1-0</th>\n",
       "      <th>results_1/2-1/2</th>\n",
       "      <th>move 0</th>\n",
       "      <th>move 1</th>\n",
       "      <th>...</th>\n",
       "      <th>move 290</th>\n",
       "      <th>move 291</th>\n",
       "      <th>move 292</th>\n",
       "      <th>move 293</th>\n",
       "      <th>move 294</th>\n",
       "      <th>move 295</th>\n",
       "      <th>move 296</th>\n",
       "      <th>move 297</th>\n",
       "      <th>move 298</th>\n",
       "      <th>move 299</th>\n",
       "    </tr>\n",
       "  </thead>\n",
       "  <tbody>\n",
       "    <tr>\n",
       "      <th>0</th>\n",
       "      <td>True</td>\n",
       "      <td>False</td>\n",
       "      <td>False</td>\n",
       "      <td>False</td>\n",
       "      <td>True</td>\n",
       "      <td>False</td>\n",
       "      <td>True</td>\n",
       "      <td>False</td>\n",
       "      <td>2147</td>\n",
       "      <td>2469</td>\n",
       "      <td>...</td>\n",
       "      <td>0</td>\n",
       "      <td>0</td>\n",
       "      <td>0</td>\n",
       "      <td>0</td>\n",
       "      <td>0</td>\n",
       "      <td>0</td>\n",
       "      <td>0</td>\n",
       "      <td>0</td>\n",
       "      <td>0</td>\n",
       "      <td>0</td>\n",
       "    </tr>\n",
       "    <tr>\n",
       "      <th>1</th>\n",
       "      <td>True</td>\n",
       "      <td>False</td>\n",
       "      <td>False</td>\n",
       "      <td>True</td>\n",
       "      <td>False</td>\n",
       "      <td>True</td>\n",
       "      <td>False</td>\n",
       "      <td>False</td>\n",
       "      <td>2147</td>\n",
       "      <td>1429</td>\n",
       "      <td>...</td>\n",
       "      <td>0</td>\n",
       "      <td>0</td>\n",
       "      <td>0</td>\n",
       "      <td>0</td>\n",
       "      <td>0</td>\n",
       "      <td>0</td>\n",
       "      <td>0</td>\n",
       "      <td>0</td>\n",
       "      <td>0</td>\n",
       "      <td>0</td>\n",
       "    </tr>\n",
       "    <tr>\n",
       "      <th>2</th>\n",
       "      <td>True</td>\n",
       "      <td>False</td>\n",
       "      <td>False</td>\n",
       "      <td>True</td>\n",
       "      <td>False</td>\n",
       "      <td>True</td>\n",
       "      <td>False</td>\n",
       "      <td>False</td>\n",
       "      <td>2147</td>\n",
       "      <td>2469</td>\n",
       "      <td>...</td>\n",
       "      <td>0</td>\n",
       "      <td>0</td>\n",
       "      <td>0</td>\n",
       "      <td>0</td>\n",
       "      <td>0</td>\n",
       "      <td>0</td>\n",
       "      <td>0</td>\n",
       "      <td>0</td>\n",
       "      <td>0</td>\n",
       "      <td>0</td>\n",
       "    </tr>\n",
       "    <tr>\n",
       "      <th>3</th>\n",
       "      <td>True</td>\n",
       "      <td>False</td>\n",
       "      <td>False</td>\n",
       "      <td>False</td>\n",
       "      <td>True</td>\n",
       "      <td>False</td>\n",
       "      <td>True</td>\n",
       "      <td>False</td>\n",
       "      <td>2147</td>\n",
       "      <td>2468</td>\n",
       "      <td>...</td>\n",
       "      <td>0</td>\n",
       "      <td>0</td>\n",
       "      <td>0</td>\n",
       "      <td>0</td>\n",
       "      <td>0</td>\n",
       "      <td>0</td>\n",
       "      <td>0</td>\n",
       "      <td>0</td>\n",
       "      <td>0</td>\n",
       "      <td>0</td>\n",
       "    </tr>\n",
       "    <tr>\n",
       "      <th>4</th>\n",
       "      <td>True</td>\n",
       "      <td>False</td>\n",
       "      <td>True</td>\n",
       "      <td>False</td>\n",
       "      <td>False</td>\n",
       "      <td>False</td>\n",
       "      <td>False</td>\n",
       "      <td>True</td>\n",
       "      <td>2147</td>\n",
       "      <td>1428</td>\n",
       "      <td>...</td>\n",
       "      <td>0</td>\n",
       "      <td>0</td>\n",
       "      <td>0</td>\n",
       "      <td>0</td>\n",
       "      <td>0</td>\n",
       "      <td>0</td>\n",
       "      <td>0</td>\n",
       "      <td>0</td>\n",
       "      <td>0</td>\n",
       "      <td>0</td>\n",
       "    </tr>\n",
       "  </tbody>\n",
       "</table>\n",
       "<p>5 rows × 308 columns</p>\n",
       "</div>"
      ]
     },
     "execution_count": 19,
     "metadata": {},
     "output_type": "execute_result"
    }
   ],
   "execution_count": 19
  },
  {
   "metadata": {
    "ExecuteTime": {
     "end_time": "2024-06-03T21:20:33.438672Z",
     "start_time": "2024-06-03T21:20:33.335732Z"
    }
   },
   "cell_type": "code",
   "source": [
    "x_train_white, x_test_white, y_train_white, y_test_white = train_test_split(total_df, df_predict_white, train_size=0.8,\n",
    "                                                                            random_state=42)\n",
    "x_train_white.shape, x_test_white.shape, y_train_white.shape, y_test_white.shape"
   ],
   "id": "d4ad5824dd2ef19d",
   "outputs": [
    {
     "data": {
      "text/plain": [
       "((39624, 308), (9907, 308), (39624,), (9907,))"
      ]
     },
     "execution_count": 20,
     "metadata": {},
     "output_type": "execute_result"
    }
   ],
   "execution_count": 20
  },
  {
   "metadata": {
    "ExecuteTime": {
     "end_time": "2024-06-03T21:20:33.445983Z",
     "start_time": "2024-06-03T21:20:33.440271Z"
    }
   },
   "cell_type": "code",
   "source": "y_train_white.unique(), y_test_white.unique()",
   "id": "5bdf74c53a5068b1",
   "outputs": [
    {
     "data": {
      "text/plain": [
       "(array([1, 2, 3, 5, 0, 4, 6, 7]), array([5, 2, 3, 1, 4, 0, 6]))"
      ]
     },
     "execution_count": 21,
     "metadata": {},
     "output_type": "execute_result"
    }
   ],
   "execution_count": 21
  },
  {
   "metadata": {},
   "cell_type": "markdown",
   "source": "Обучим модель для предсказания только рейтинга белого. Рейтинг черного не должен сильно отличаться",
   "id": "79eb53d7e8270e92"
  },
  {
   "metadata": {
    "ExecuteTime": {
     "end_time": "2024-06-03T21:21:02.536735Z",
     "start_time": "2024-06-03T21:20:33.447472Z"
    }
   },
   "cell_type": "code",
   "source": [
    "models = {\n",
    "    \"LogisticRegression\": LogisticRegression(),\n",
    "    \"RandomForestClassifier\": RandomForestClassifier()\n",
    "}\n",
    "results = []\n",
    "for name, model in models.items():\n",
    "    model.fit(x_train_white, y_train_white)\n",
    "    y_pred_test = model.predict(x_test_white)\n",
    "    y_pred_train = model.predict(x_train_white)\n",
    "    results.append({\n",
    "        \"model\": name,\n",
    "        \"f1_score test\": f1_score(y_true=y_test_white, y_pred=y_pred_test, average='micro'),\n",
    "        \"r2_score test\": r2_score(y_true=y_test_white, y_pred=y_pred_test),\n",
    "        \"balanced_accuracy test\": balanced_accuracy_score(y_true=y_test_white, y_pred=y_pred_test),\n",
    "        \"f1_score train\": f1_score(y_true=y_train_white, y_pred=y_pred_train, average='micro'),\n",
    "        \"r2_score train\": r2_score(y_true=y_train_white, y_pred=y_pred_train),\n",
    "        \"balanced_accuracy train\": balanced_accuracy_score(y_true=y_train_white, y_pred=y_pred_train),\n",
    "    })\n",
    "total_res = pd.DataFrame(results)\n",
    "total_res"
   ],
   "id": "8a96e9a15916941b",
   "outputs": [
    {
     "name": "stderr",
     "output_type": "stream",
     "text": [
      "/home/gabik/anaconda3/envs/hse_ml_course_2024/lib/python3.8/site-packages/sklearn/linear_model/_logistic.py:460: ConvergenceWarning: lbfgs failed to converge (status=1):\n",
      "STOP: TOTAL NO. of ITERATIONS REACHED LIMIT.\n",
      "\n",
      "Increase the number of iterations (max_iter) or scale the data as shown in:\n",
      "    https://scikit-learn.org/stable/modules/preprocessing.html\n",
      "Please also refer to the documentation for alternative solver options:\n",
      "    https://scikit-learn.org/stable/modules/linear_model.html#logistic-regression\n",
      "  n_iter_i = _check_optimize_result(\n"
     ]
    },
    {
     "data": {
      "text/plain": [
       "                    model  f1_score test  r2_score test  \\\n",
       "0      LogisticRegression       0.342081      -0.102952   \n",
       "1  RandomForestClassifier       0.412133       0.181512   \n",
       "\n",
       "   balanced_accuracy test  f1_score train  r2_score train  \\\n",
       "0                0.147782        0.358343       -0.094928   \n",
       "1                0.199499        0.999117        0.998421   \n",
       "\n",
       "   balanced_accuracy train  \n",
       "0                  0.13521  \n",
       "1                  0.99901  "
      ],
      "text/html": [
       "<div>\n",
       "<style scoped>\n",
       "    .dataframe tbody tr th:only-of-type {\n",
       "        vertical-align: middle;\n",
       "    }\n",
       "\n",
       "    .dataframe tbody tr th {\n",
       "        vertical-align: top;\n",
       "    }\n",
       "\n",
       "    .dataframe thead th {\n",
       "        text-align: right;\n",
       "    }\n",
       "</style>\n",
       "<table border=\"1\" class=\"dataframe\">\n",
       "  <thead>\n",
       "    <tr style=\"text-align: right;\">\n",
       "      <th></th>\n",
       "      <th>model</th>\n",
       "      <th>f1_score test</th>\n",
       "      <th>r2_score test</th>\n",
       "      <th>balanced_accuracy test</th>\n",
       "      <th>f1_score train</th>\n",
       "      <th>r2_score train</th>\n",
       "      <th>balanced_accuracy train</th>\n",
       "    </tr>\n",
       "  </thead>\n",
       "  <tbody>\n",
       "    <tr>\n",
       "      <th>0</th>\n",
       "      <td>LogisticRegression</td>\n",
       "      <td>0.342081</td>\n",
       "      <td>-0.102952</td>\n",
       "      <td>0.147782</td>\n",
       "      <td>0.358343</td>\n",
       "      <td>-0.094928</td>\n",
       "      <td>0.13521</td>\n",
       "    </tr>\n",
       "    <tr>\n",
       "      <th>1</th>\n",
       "      <td>RandomForestClassifier</td>\n",
       "      <td>0.412133</td>\n",
       "      <td>0.181512</td>\n",
       "      <td>0.199499</td>\n",
       "      <td>0.999117</td>\n",
       "      <td>0.998421</td>\n",
       "      <td>0.99901</td>\n",
       "    </tr>\n",
       "  </tbody>\n",
       "</table>\n",
       "</div>"
      ]
     },
     "execution_count": 22,
     "metadata": {},
     "output_type": "execute_result"
    }
   ],
   "execution_count": 22
  }
 ],
 "metadata": {
  "kernelspec": {
   "display_name": "Python 3",
   "language": "python",
   "name": "python3"
  },
  "language_info": {
   "codemirror_mode": {
    "name": "ipython",
    "version": 2
   },
   "file_extension": ".py",
   "mimetype": "text/x-python",
   "name": "python",
   "nbconvert_exporter": "python",
   "pygments_lexer": "ipython2",
   "version": "2.7.6"
  }
 },
 "nbformat": 4,
 "nbformat_minor": 5
}
