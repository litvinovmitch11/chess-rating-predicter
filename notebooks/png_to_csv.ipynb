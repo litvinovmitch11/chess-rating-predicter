{
 "cells": [
  {
   "metadata": {
    "ExecuteTime": {
     "end_time": "2024-06-02T17:30:09.928012Z",
     "start_time": "2024-06-02T17:30:09.508467Z"
    }
   },
   "cell_type": "code",
   "source": [
    "import chess.pgn\n",
    "import pandas as pd\n",
    "import numpy as np"
   ],
   "id": "3aa11aeadf0c13d2",
   "outputs": [],
   "execution_count": 1
  },
  {
   "metadata": {},
   "cell_type": "markdown",
   "source": "Посчитаем, сколько записей в нашей дате подходят под наши нужды",
   "id": "c1cb056aa633fdcf"
  },
  {
   "metadata": {
    "ExecuteTime": {
     "end_time": "2024-06-02T17:35:46.758703Z",
     "start_time": "2024-06-02T17:30:10.698504Z"
    }
   },
   "cell_type": "code",
   "source": [
    "i = 0\n",
    "required_headers = ['Event', 'Result', 'WhiteElo', 'BlackElo', 'WhiteRatingDiff', 'BlackRatingDiff', 'ECO', 'Opening',\n",
    "                    'TimeControl', 'Termination']\n",
    "with open(\"../data/lichess_db_standard_rated_2013-01.pgn\") as pgn:\n",
    "    while True:\n",
    "        game = chess.pgn.read_game(pgn)\n",
    "        if game is None:\n",
    "            break\n",
    "\n",
    "        if not all(header in game.headers for header in required_headers) or '?' in game.headers['Event'] + \\\n",
    "                game.headers['Result'] + game.headers['WhiteElo'] + game.headers['BlackElo'] + game.headers[\n",
    "            'WhiteRatingDiff'] + game.headers['BlackRatingDiff'] + game.headers['ECO'] + game.headers[\n",
    "            'Opening'] + game.headers['TimeControl'] + game.headers['Termination']:\n",
    "            continue\n",
    "        i += 1\n",
    "print(i)"
   ],
   "id": "de00908dbb973430",
   "outputs": [
    {
     "name": "stdout",
     "output_type": "stream",
     "text": [
      "121114\n"
     ]
    }
   ],
   "execution_count": 2
  },
  {
   "metadata": {},
   "cell_type": "markdown",
   "source": "Давайте теперь для удобства запишем данные в csv формат, чтобы в дальнейшем сильно ускорить работу с датафреймом",
   "id": "1ce37e75b5dc0025"
  },
  {
   "metadata": {
    "ExecuteTime": {
     "end_time": "2024-06-02T17:41:43.735834Z",
     "start_time": "2024-06-02T17:35:46.760345Z"
    }
   },
   "cell_type": "code",
   "source": [
    "N = i\n",
    "\n",
    "events = np.empty(N, dtype=object)\n",
    "results = np.empty(N, dtype=object)\n",
    "\n",
    "white_elo = np.empty(N, dtype=int)\n",
    "black_elo = np.empty(N, dtype=int)\n",
    "white_rating_diff = np.empty(N, dtype=int)\n",
    "black_rating_diff = np.empty(N, dtype=int)\n",
    "\n",
    "ecos = np.empty(N, dtype=object)\n",
    "openings = np.empty(N, dtype=object)\n",
    "\n",
    "time_control = np.empty(N, dtype=object)\n",
    "termination = np.empty(N, dtype=object)\n",
    "\n",
    "all_moves = np.empty(N, dtype=object)\n",
    "\n",
    "i = 0\n",
    "with open(\"../data/lichess_db_standard_rated_2013-01.pgn\") as pgn:\n",
    "    while True:\n",
    "        game = chess.pgn.read_game(pgn)\n",
    "        if game is None:\n",
    "            break\n",
    "            \n",
    "        if not all(header in game.headers for header in required_headers) or '?' in game.headers['Event'] + \\\n",
    "                game.headers['Result'] + game.headers['WhiteElo'] + game.headers['BlackElo'] + game.headers[\n",
    "            'WhiteRatingDiff'] + game.headers['BlackRatingDiff'] + game.headers['ECO'] + game.headers[\n",
    "            'Opening'] + game.headers['TimeControl'] + game.headers['Termination']:\n",
    "            continue\n",
    "\n",
    "        moves = []\n",
    "        for item in game.mainline_moves():\n",
    "            moves.append(str(item))\n",
    "            \n",
    "        events[i] = game.headers['Event']\n",
    "        results[i] = game.headers['Result']\n",
    "        white_elo[i] = game.headers['WhiteElo']\n",
    "        black_elo[i] = game.headers['BlackElo']\n",
    "        white_rating_diff[i] = game.headers['WhiteRatingDiff']\n",
    "        black_rating_diff[i] = game.headers['BlackRatingDiff']\n",
    "        ecos[i] = game.headers['ECO']\n",
    "        openings[i] = game.headers['Opening']\n",
    "        time_control[i] = game.headers['TimeControl']\n",
    "        termination[i] = game.headers['Termination']\n",
    "        all_moves[i] = moves\n",
    "\n",
    "        i += 1\n",
    "\n",
    "df = pd.DataFrame({'Events': events, 'results': results, 'white_elo': white_elo, 'black_elo': black_elo,\n",
    "                   'white_rating_diff': white_rating_diff, 'black_rating_diff': black_rating_diff, 'ecos': ecos,\n",
    "                   'openings': openings, 'time_control': time_control, 'termination': termination,\n",
    "                   'all_moves': all_moves})"
   ],
   "id": "20347c3063e2e54e",
   "outputs": [],
   "execution_count": 3
  },
  {
   "metadata": {},
   "cell_type": "markdown",
   "source": "Проверим, что получили желаемый результат",
   "id": "516ebe2d77b72115"
  },
  {
   "metadata": {
    "ExecuteTime": {
     "end_time": "2024-06-02T17:41:43.764424Z",
     "start_time": "2024-06-02T17:41:43.738065Z"
    }
   },
   "cell_type": "code",
   "source": "df.head()",
   "id": "145c786226a605d4",
   "outputs": [
    {
     "data": {
      "text/plain": [
       "                 Events results  white_elo  black_elo  white_rating_diff  \\\n",
       "0  Rated Classical game     1-0       1639       1403                  5   \n",
       "1  Rated Classical game     1-0       1654       1919                 19   \n",
       "2  Rated Classical game     1-0       1643       1747                 13   \n",
       "3     Rated Bullet game     0-1       1824       1973                 -6   \n",
       "4     Rated Bullet game     0-1       1765       1815                 -9   \n",
       "\n",
       "   black_rating_diff ecos                                     openings  \\\n",
       "0                 -8  C00             French Defense: Normal Variation   \n",
       "1                -22  D04  Queen's Pawn Game: Colle System, Anti-Colle   \n",
       "2                -94  C50         Four Knights Game: Italian Variation   \n",
       "3                  8  B12         Caro-Kann Defense: Goldman Variation   \n",
       "4                  9  C00     French Defense: La Bourdonnais Variation   \n",
       "\n",
       "  time_control termination                                          all_moves  \n",
       "0        600+8      Normal  [e2e4, e7e6, d2d4, b7b6, a2a3, c8b7, b1c3, g8h...  \n",
       "1        480+2      Normal  [d2d4, d7d5, g1f3, g8f6, e2e3, c8f5, f3h4, f5g...  \n",
       "2       420+17      Normal  [e2e4, e7e5, g1f3, b8c6, f1c4, g8f6, b1c3, f8c...  \n",
       "3         60+1      Normal  [e2e4, c7c6, b1c3, d7d5, d1f3, d5e4, c3e4, b8d...  \n",
       "4         60+1      Normal  [e2e4, e7e6, f2f4, d7d5, e4e5, c7c5, g1f3, d8b...  "
      ],
      "text/html": [
       "<div>\n",
       "<style scoped>\n",
       "    .dataframe tbody tr th:only-of-type {\n",
       "        vertical-align: middle;\n",
       "    }\n",
       "\n",
       "    .dataframe tbody tr th {\n",
       "        vertical-align: top;\n",
       "    }\n",
       "\n",
       "    .dataframe thead th {\n",
       "        text-align: right;\n",
       "    }\n",
       "</style>\n",
       "<table border=\"1\" class=\"dataframe\">\n",
       "  <thead>\n",
       "    <tr style=\"text-align: right;\">\n",
       "      <th></th>\n",
       "      <th>Events</th>\n",
       "      <th>results</th>\n",
       "      <th>white_elo</th>\n",
       "      <th>black_elo</th>\n",
       "      <th>white_rating_diff</th>\n",
       "      <th>black_rating_diff</th>\n",
       "      <th>ecos</th>\n",
       "      <th>openings</th>\n",
       "      <th>time_control</th>\n",
       "      <th>termination</th>\n",
       "      <th>all_moves</th>\n",
       "    </tr>\n",
       "  </thead>\n",
       "  <tbody>\n",
       "    <tr>\n",
       "      <th>0</th>\n",
       "      <td>Rated Classical game</td>\n",
       "      <td>1-0</td>\n",
       "      <td>1639</td>\n",
       "      <td>1403</td>\n",
       "      <td>5</td>\n",
       "      <td>-8</td>\n",
       "      <td>C00</td>\n",
       "      <td>French Defense: Normal Variation</td>\n",
       "      <td>600+8</td>\n",
       "      <td>Normal</td>\n",
       "      <td>[e2e4, e7e6, d2d4, b7b6, a2a3, c8b7, b1c3, g8h...</td>\n",
       "    </tr>\n",
       "    <tr>\n",
       "      <th>1</th>\n",
       "      <td>Rated Classical game</td>\n",
       "      <td>1-0</td>\n",
       "      <td>1654</td>\n",
       "      <td>1919</td>\n",
       "      <td>19</td>\n",
       "      <td>-22</td>\n",
       "      <td>D04</td>\n",
       "      <td>Queen's Pawn Game: Colle System, Anti-Colle</td>\n",
       "      <td>480+2</td>\n",
       "      <td>Normal</td>\n",
       "      <td>[d2d4, d7d5, g1f3, g8f6, e2e3, c8f5, f3h4, f5g...</td>\n",
       "    </tr>\n",
       "    <tr>\n",
       "      <th>2</th>\n",
       "      <td>Rated Classical game</td>\n",
       "      <td>1-0</td>\n",
       "      <td>1643</td>\n",
       "      <td>1747</td>\n",
       "      <td>13</td>\n",
       "      <td>-94</td>\n",
       "      <td>C50</td>\n",
       "      <td>Four Knights Game: Italian Variation</td>\n",
       "      <td>420+17</td>\n",
       "      <td>Normal</td>\n",
       "      <td>[e2e4, e7e5, g1f3, b8c6, f1c4, g8f6, b1c3, f8c...</td>\n",
       "    </tr>\n",
       "    <tr>\n",
       "      <th>3</th>\n",
       "      <td>Rated Bullet game</td>\n",
       "      <td>0-1</td>\n",
       "      <td>1824</td>\n",
       "      <td>1973</td>\n",
       "      <td>-6</td>\n",
       "      <td>8</td>\n",
       "      <td>B12</td>\n",
       "      <td>Caro-Kann Defense: Goldman Variation</td>\n",
       "      <td>60+1</td>\n",
       "      <td>Normal</td>\n",
       "      <td>[e2e4, c7c6, b1c3, d7d5, d1f3, d5e4, c3e4, b8d...</td>\n",
       "    </tr>\n",
       "    <tr>\n",
       "      <th>4</th>\n",
       "      <td>Rated Bullet game</td>\n",
       "      <td>0-1</td>\n",
       "      <td>1765</td>\n",
       "      <td>1815</td>\n",
       "      <td>-9</td>\n",
       "      <td>9</td>\n",
       "      <td>C00</td>\n",
       "      <td>French Defense: La Bourdonnais Variation</td>\n",
       "      <td>60+1</td>\n",
       "      <td>Normal</td>\n",
       "      <td>[e2e4, e7e6, f2f4, d7d5, e4e5, c7c5, g1f3, d8b...</td>\n",
       "    </tr>\n",
       "  </tbody>\n",
       "</table>\n",
       "</div>"
      ]
     },
     "execution_count": 4,
     "metadata": {},
     "output_type": "execute_result"
    }
   ],
   "execution_count": 4
  },
  {
   "metadata": {},
   "cell_type": "markdown",
   "source": "Запишем в нужную папку получившуюся дату",
   "id": "738407e584a338ae"
  },
  {
   "metadata": {
    "ExecuteTime": {
     "end_time": "2024-06-02T17:41:46.746222Z",
     "start_time": "2024-06-02T17:41:43.766789Z"
    }
   },
   "cell_type": "code",
   "source": "df.to_csv(\"../data/lichess_db_standard_rated_2013-01.csv\", encoding='utf-8', index=False)",
   "id": "f7cbfde7825fbb3f",
   "outputs": [],
   "execution_count": 5
  }
 ],
 "metadata": {
  "kernelspec": {
   "display_name": "Python 3",
   "language": "python",
   "name": "python3"
  },
  "language_info": {
   "codemirror_mode": {
    "name": "ipython",
    "version": 2
   },
   "file_extension": ".py",
   "mimetype": "text/x-python",
   "name": "python",
   "nbconvert_exporter": "python",
   "pygments_lexer": "ipython2",
   "version": "2.7.6"
  }
 },
 "nbformat": 4,
 "nbformat_minor": 5
}
