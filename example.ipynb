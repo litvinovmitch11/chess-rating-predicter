{
 "cells": [
  {
   "cell_type": "code",
   "id": "initial_id",
   "metadata": {
    "collapsed": true,
    "ExecuteTime": {
     "end_time": "2024-06-02T12:51:18.543052Z",
     "start_time": "2024-06-02T12:51:18.443942Z"
    }
   },
   "source": [
    "from config import STOCKFISH_PATH\n",
    "\n",
    "import chess.pgn\n",
    "import io\n",
    "\n",
    "from stockfish import Stockfish"
   ],
   "outputs": [],
   "execution_count": 1
  },
  {
   "metadata": {
    "ExecuteTime": {
     "end_time": "2024-06-02T12:51:18.672440Z",
     "start_time": "2024-06-02T12:51:18.544560Z"
    }
   },
   "cell_type": "code",
   "source": [
    "stockfish = Stockfish(STOCKFISH_PATH)\n",
    "stockfish.get_stockfish_major_version()"
   ],
   "id": "421313e47406ed92",
   "outputs": [
    {
     "data": {
      "text/plain": [
       "14"
      ]
     },
     "execution_count": 2,
     "metadata": {},
     "output_type": "execute_result"
    }
   ],
   "execution_count": 2
  },
  {
   "metadata": {
    "ExecuteTime": {
     "end_time": "2024-06-02T12:51:18.681416Z",
     "start_time": "2024-06-02T12:51:18.673838Z"
    }
   },
   "cell_type": "code",
   "source": [
    "moves = []\n",
    "with open(\"./data/lichess_db_standard_rated_2015-05.pgn\") as pgn:\n",
    "    game = chess.pgn.read_game(pgn)\n",
    "    for item in game.mainline_moves():\n",
    "        moves.append(str(item))\n",
    "moves[:6]"
   ],
   "id": "378ef0057ecbaa1c",
   "outputs": [
    {
     "data": {
      "text/plain": [
       "['e2e4', 'e7e6', 'g1f3', 'd7d5', 'd2d4', 'd5e4']"
      ]
     },
     "execution_count": 3,
     "metadata": {},
     "output_type": "execute_result"
    }
   ],
   "execution_count": 3
  },
  {
   "metadata": {
    "ExecuteTime": {
     "end_time": "2024-06-02T12:51:18.688832Z",
     "start_time": "2024-06-02T12:51:18.682912Z"
    }
   },
   "cell_type": "code",
   "source": [
    "simple_string = \"1. e4 e5 2. Bc4 d6 3. Qh5 Nf6 4. Qxf7#\"\n",
    "simple_moves = io.StringIO(simple_string)\n",
    "simple_game = chess.pgn.read_game(simple_moves)"
   ],
   "id": "ef19e91a2d6e8d64",
   "outputs": [],
   "execution_count": 4
  },
  {
   "metadata": {
    "ExecuteTime": {
     "end_time": "2024-06-02T12:51:21.540830Z",
     "start_time": "2024-06-02T12:51:18.690081Z"
    }
   },
   "cell_type": "code",
   "source": [
    "stats = []\n",
    "stockfish.set_position()\n",
    "stats.append({\"wdl\": stockfish.get_wdl_stats(), \"evaluation\": stockfish.get_evaluation()})\n",
    "for move in simple_game.mainline_moves():\n",
    "    stockfish.make_moves_from_current_position([move])\n",
    "    stats.append({\"wdl\": stockfish.get_wdl_stats(), \"evaluation\": stockfish.get_evaluation()})\n",
    "stats"
   ],
   "id": "bddcf57b4fe7821c",
   "outputs": [
    {
     "data": {
      "text/plain": [
       "[{'wdl': [96, 887, 17], 'evaluation': {'type': 'cp', 'value': 35}},\n",
       " {'wdl': [30, 915, 55], 'evaluation': {'type': 'cp', 'value': 35}},\n",
       " {'wdl': [111, 875, 14], 'evaluation': {'type': 'cp', 'value': 55}},\n",
       " {'wdl': [25, 911, 64], 'evaluation': {'type': 'cp', 'value': 12}},\n",
       " {'wdl': [79, 901, 20], 'evaluation': {'type': 'cp', 'value': 43}},\n",
       " {'wdl': [75, 905, 20], 'evaluation': {'type': 'cp', 'value': -21}},\n",
       " {'wdl': [1000, 0, 0], 'evaluation': {'type': 'mate', 'value': 1}},\n",
       " {'wdl': None, 'evaluation': {'type': 'mate', 'value': 0}}]"
      ]
     },
     "execution_count": 5,
     "metadata": {},
     "output_type": "execute_result"
    }
   ],
   "execution_count": 5
  },
  {
   "metadata": {
    "ExecuteTime": {
     "end_time": "2024-06-02T12:51:21.669815Z",
     "start_time": "2024-06-02T12:51:21.542950Z"
    }
   },
   "cell_type": "code",
   "source": [
    "import chess\n",
    "import chess.engine\n",
    "\n",
    "\n",
    "def stockfish_evaluation(board, time_limit=0.01):\n",
    "    engine = chess.engine.SimpleEngine.popen_uci(STOCKFISH_PATH)\n",
    "    result = engine.analyse(board, chess.engine.Limit(time=time_limit))\n",
    "    return result['score']\n",
    "\n",
    "\n",
    "position = chess.Board(\"rnbqkbnr/ppp2ppp/3p4/4p2Q/2B1P3/8/PPPP1PPP/RNB1K1NR b KQkq - 1 3\")\n",
    "res = stockfish_evaluation(position)\n",
    "res"
   ],
   "id": "a0bff4b03f169abd",
   "outputs": [
    {
     "data": {
      "text/plain": [
       "PovScore(Cp(+1), BLACK)"
      ]
     },
     "execution_count": 6,
     "metadata": {},
     "output_type": "execute_result"
    }
   ],
   "execution_count": 6
  },
  {
   "metadata": {
    "ExecuteTime": {
     "end_time": "2024-06-02T12:51:21.674937Z",
     "start_time": "2024-06-02T12:51:21.671851Z"
    }
   },
   "cell_type": "code",
   "source": "",
   "id": "b40efb1f40fdf146",
   "outputs": [],
   "execution_count": 6
  }
 ],
 "metadata": {
  "kernelspec": {
   "display_name": "Python 3",
   "language": "python",
   "name": "python3"
  },
  "language_info": {
   "codemirror_mode": {
    "name": "ipython",
    "version": 2
   },
   "file_extension": ".py",
   "mimetype": "text/x-python",
   "name": "python",
   "nbconvert_exporter": "python",
   "pygments_lexer": "ipython2",
   "version": "2.7.6"
  }
 },
 "nbformat": 4,
 "nbformat_minor": 5
}
